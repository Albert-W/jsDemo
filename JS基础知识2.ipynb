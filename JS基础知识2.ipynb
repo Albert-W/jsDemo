{
 "cells": [
  {
   "cell_type": "markdown",
   "metadata": {},
   "source": [
    "## 原型链"
   ]
  },
  {
   "cell_type": "markdown",
   "metadata": {},
   "source": [
    "### 构造函数   \n",
    "函数名首字母必须大写，约定； "
   ]
  },
  {
   "cell_type": "code",
   "execution_count": 1,
   "metadata": {},
   "outputs": [],
   "source": [
    "function Foo(name,age){\n",
    "    this.name = name;\n",
    "    this.age = age;\n",
    "    this.class = 'class-1';\n",
    "    return this //默认有这行；\n",
    "}"
   ]
  },
  {
   "cell_type": "code",
   "execution_count": 2,
   "metadata": {},
   "outputs": [
    {
     "data": {
      "text/plain": [
       "Foo { name: 'zhangsan', age: 20, class: 'class-1' }"
      ]
     },
     "execution_count": 2,
     "metadata": {},
     "output_type": "execute_result"
    }
   ],
   "source": [
    "var f = new Foo('zhangsan', 20); f;"
   ]
  },
  {
   "cell_type": "code",
   "execution_count": 3,
   "metadata": {},
   "outputs": [
    {
     "data": {
      "text/plain": [
       "Foo { name: 'lisi', age: 22, class: 'class-1' }"
      ]
     },
     "execution_count": 3,
     "metadata": {},
     "output_type": "execute_result"
    }
   ],
   "source": [
    "var f1 = new Foo('lisi',22);f1;"
   ]
  },
  {
   "cell_type": "code",
   "execution_count": 4,
   "metadata": {},
   "outputs": [
    {
     "data": {
      "text/plain": [
       "Foo { name: 'wang', age: undefined, class: 'class-1' }"
      ]
     },
     "execution_count": 4,
     "metadata": {},
     "output_type": "execute_result"
    }
   ],
   "source": [
    "var f2 = new Foo('wang'); f2;"
   ]
  },
  {
   "cell_type": "markdown",
   "metadata": {},
   "source": [
    "所有的引用类型都有构造函数：  \n",
    "var a = {} 是 var a = new Object()的语法糖；   \n",
    "var a = [] 是 var a = new Array() 的语法糖；   \n",
    "function Foo(){} 是 var Foo = new Function()的语法糖；    \n",
    "使用instanceof 判断一个函数是否是一个变量的构造函数；   \n"
   ]
  },
  {
   "cell_type": "markdown",
   "metadata": {},
   "source": [
    "### 原型规则\n",
    "\n",
    "1 所有的引用类型（数组、对象、函数,null除外），都具有对象特性，即可自由扩展属性；   \n",
    "2 (null除外)都有一个__proto__属性（隐式原型），属性值是一个普通的对象；    \n",
    "3 所有的**函数**，都有一个prototype属性（显式原型），属性值也是一个普通的对象；  \n",
    "4 所有的引用类型（数组、对象、函数,null除外）, __proto__属性值指向（完全等于===）它的构造函数的prototype属性值；  \n",
    "5 当试图得到一个对象的某个属性时，如果这个对象本身没有这个属性，那么会去它的__proto__(即它的构造函数的prototype)中寻找。  "
   ]
  },
  {
   "cell_type": "code",
   "execution_count": 6,
   "metadata": {},
   "outputs": [
    {
     "data": {
      "text/plain": [
       "[ 1, 2, color: 'red' ]"
      ]
     },
     "execution_count": 6,
     "metadata": {},
     "output_type": "execute_result"
    }
   ],
   "source": [
    "var a = [1,2];\n",
    "a.color = 'red';\n",
    "a"
   ]
  },
  {
   "cell_type": "code",
   "execution_count": 7,
   "metadata": {},
   "outputs": [
    {
     "data": {
      "text/plain": [
       "[]"
      ]
     },
     "execution_count": 7,
     "metadata": {},
     "output_type": "execute_result"
    }
   ],
   "source": [
    "a.__proto__;"
   ]
  },
  {
   "cell_type": "code",
   "execution_count": 5,
   "metadata": {},
   "outputs": [
    {
     "data": {
      "text/plain": [
       "[Function]"
      ]
     },
     "execution_count": 5,
     "metadata": {},
     "output_type": "execute_result"
    }
   ],
   "source": [
    "i= function(){};\n",
    "i.__proto__;"
   ]
  },
  {
   "cell_type": "code",
   "execution_count": 6,
   "metadata": {},
   "outputs": [
    {
     "data": {
      "text/plain": [
       "i {}"
      ]
     },
     "execution_count": 6,
     "metadata": {},
     "output_type": "execute_result"
    }
   ],
   "source": [
    "i.prototype; //只有函数才有，与上条结果不同。"
   ]
  },
  {
   "cell_type": "code",
   "execution_count": 7,
   "metadata": {},
   "outputs": [
    {
     "data": {
      "text/plain": [
       "true"
      ]
     },
     "execution_count": 7,
     "metadata": {},
     "output_type": "execute_result"
    }
   ],
   "source": [
    "i.__proto__ === Function.prototype; //完全相等；"
   ]
  },
  {
   "cell_type": "code",
   "execution_count": 13,
   "metadata": {
    "scrolled": false
   },
   "outputs": [
    {
     "ename": "SyntaxError",
     "evalue": "Unexpected token (",
     "output_type": "error",
     "traceback": [
      "evalmachine.<anonymous>:1",
      "function(){}.__proto__;",
      "        ^",
      "",
      "SyntaxError: Unexpected token (",
      "    at new Script (vm.js:83:7)",
      "    at createScript (vm.js:265:10)",
      "    at Object.runInThisContext (vm.js:313:10)",
      "    at run ([eval]:1002:15)",
      "    at onRunRequest ([eval]:829:18)",
      "    at onMessage ([eval]:789:13)",
      "    at process.emit (events.js:196:13)",
      "    at emit (internal/child_process.js:860:12)",
      "    at processTicksAndRejections (internal/process/task_queues.js:84:9)"
     ]
    }
   ],
   "source": [
    "function(){}.__proto__; //只有在复制创建时才有隐性型；"
   ]
  },
  {
   "cell_type": "code",
   "execution_count": 17,
   "metadata": {},
   "outputs": [
    {
     "data": {
      "text/plain": [
       "'function'"
      ]
     },
     "execution_count": 17,
     "metadata": {},
     "output_type": "execute_result"
    }
   ],
   "source": [
    "typeof function(){};"
   ]
  },
  {
   "cell_type": "code",
   "execution_count": 15,
   "metadata": {},
   "outputs": [
    {
     "data": {
      "text/plain": [
       "{}"
      ]
     },
     "execution_count": 15,
     "metadata": {},
     "output_type": "execute_result"
    }
   ],
   "source": [
    "var o={};\n",
    "o.__proto__;"
   ]
  },
  {
   "cell_type": "code",
   "execution_count": 14,
   "metadata": {},
   "outputs": [
    {
     "ename": "SyntaxError",
     "evalue": "Unexpected token .",
     "output_type": "error",
     "traceback": [
      "evalmachine.<anonymous>:1",
      "{}.__proto__;",
      "  ^",
      "",
      "SyntaxError: Unexpected token .",
      "    at new Script (vm.js:83:7)",
      "    at createScript (vm.js:265:10)",
      "    at Object.runInThisContext (vm.js:313:10)",
      "    at run ([eval]:1002:15)",
      "    at onRunRequest ([eval]:829:18)",
      "    at onMessage ([eval]:789:13)",
      "    at process.emit (events.js:196:13)",
      "    at emit (internal/child_process.js:860:12)",
      "    at processTicksAndRejections (internal/process/task_queues.js:84:9)"
     ]
    }
   ],
   "source": [
    "{}.__proto__;"
   ]
  },
  {
   "cell_type": "code",
   "execution_count": 16,
   "metadata": {},
   "outputs": [
    {
     "ename": "TypeError",
     "evalue": "Cannot read property '__proto__' of null",
     "output_type": "error",
     "traceback": [
      "evalmachine.<anonymous>:2",
      "n.__proto__;",
      "  ^",
      "",
      "TypeError: Cannot read property '__proto__' of null",
      "    at evalmachine.<anonymous>:2:3",
      "    at Script.runInThisContext (vm.js:123:20)",
      "    at Object.runInThisContext (vm.js:313:38)",
      "    at run ([eval]:1002:15)",
      "    at onRunRequest ([eval]:829:18)",
      "    at onMessage ([eval]:789:13)",
      "    at process.emit (events.js:196:13)",
      "    at emit (internal/child_process.js:860:12)",
      "    at processTicksAndRejections (internal/process/task_queues.js:84:9)"
     ]
    }
   ],
   "source": [
    "var n = null;\n",
    "n.__proto__;"
   ]
  },
  {
   "cell_type": "code",
   "execution_count": 8,
   "metadata": {
    "scrolled": true
   },
   "outputs": [
    {
     "ename": "TypeError",
     "evalue": "Cannot read property '__proto__' of null",
     "output_type": "error",
     "traceback": [
      "evalmachine.<anonymous>:1",
      "null.__proto__;",
      "     ^",
      "",
      "TypeError: Cannot read property '__proto__' of null",
      "    at evalmachine.<anonymous>:1:6",
      "    at Script.runInThisContext (vm.js:123:20)",
      "    at Object.runInThisContext (vm.js:313:38)",
      "    at run ([eval]:1002:15)",
      "    at onRunRequest ([eval]:829:18)",
      "    at onMessage ([eval]:789:13)",
      "    at process.emit (events.js:196:13)",
      "    at emit (internal/child_process.js:860:12)",
      "    at processTicksAndRejections (internal/process/task_queues.js:84:9)"
     ]
    }
   ],
   "source": [
    "null.__proto__;"
   ]
  },
  {
   "cell_type": "code",
   "execution_count": 1,
   "metadata": {},
   "outputs": [
    {
     "data": {
      "text/plain": [
       "fn {}"
      ]
     },
     "execution_count": 1,
     "metadata": {},
     "output_type": "execute_result"
    }
   ],
   "source": [
    "function fn(){};\n",
    "fn.prototype;"
   ]
  },
  {
   "cell_type": "markdown",
   "metadata": {},
   "source": [
    "### 第5条的测试"
   ]
  },
  {
   "cell_type": "code",
   "execution_count": 33,
   "metadata": {},
   "outputs": [
    {
     "name": "stdout",
     "output_type": "stream",
     "text": [
      "zhangsan\n"
     ]
    }
   ],
   "source": [
    "function Foo(name,age){\n",
    "    this.name = name;\n",
    "}\n",
    "Foo.prototype.name= \"lisi\";\n",
    "Foo.prototype.alertName=function (){\n",
    "    console.log(this.name + \" hello\");\n",
    "}\n",
    "\n",
    "var f = new Foo('zhangsan');\n",
    "f.printName = function(){console.log(this.name)}\n",
    "console.log(f.name);"
   ]
  },
  {
   "cell_type": "code",
   "execution_count": 34,
   "metadata": {},
   "outputs": [
    {
     "data": {
      "text/plain": [
       "[Function]"
      ]
     },
     "execution_count": 34,
     "metadata": {},
     "output_type": "execute_result"
    }
   ],
   "source": [
    "f.alertName;"
   ]
  },
  {
   "cell_type": "code",
   "execution_count": 35,
   "metadata": {},
   "outputs": [
    {
     "name": "stdout",
     "output_type": "stream",
     "text": [
      "zhangsan hello\n"
     ]
    }
   ],
   "source": [
    "f.alertName(); //通过对象执行函数时，this永远指向对象本身"
   ]
  },
  {
   "cell_type": "code",
   "execution_count": 37,
   "metadata": {},
   "outputs": [
    {
     "name": "stdout",
     "output_type": "stream",
     "text": [
      "name\n",
      "printName\n",
      "alertName\n"
     ]
    }
   ],
   "source": [
    "var item;\n",
    "for (item in f){ //也会找到原型链上的属性\n",
    "//     if(f.hasOwnProperty(item)){ //找到自身的属性；\n",
    "        console.log(item);\n",
    "//     }\n",
    "}"
   ]
  },
  {
   "cell_type": "code",
   "execution_count": 38,
   "metadata": {},
   "outputs": [
    {
     "data": {
      "text/plain": [
       "'[object Object]'"
      ]
     },
     "execution_count": 38,
     "metadata": {},
     "output_type": "execute_result"
    }
   ],
   "source": [
    "f.toString();//去f.__proto__.__proto__中查找，并找到了"
   ]
  },
  {
   "cell_type": "code",
   "execution_count": 39,
   "metadata": {},
   "outputs": [
    {
     "data": {
      "text/plain": [
       "'[object Object]'"
      ]
     },
     "execution_count": 39,
     "metadata": {},
     "output_type": "execute_result"
    }
   ],
   "source": [
    "f.__proto__.toString();"
   ]
  },
  {
   "attachments": {
    "image.png": {
     "image/png": "[encoded data removed]"
    }
   },
   "cell_type": "markdown",
   "metadata": {},
   "source": [
    "![image.png](attachment:image.png)"
   ]
  },
  {
   "attachments": {},
   "cell_type": "markdown",
   "metadata": {},
   "source": [
    "### instanceof 用于判断引用类型属于哪个构造函数的方法"
   ]
  },
  {
   "cell_type": "code",
   "execution_count": 40,
   "metadata": {},
   "outputs": [
    {
     "data": {
      "text/plain": [
       "true"
      ]
     },
     "execution_count": 40,
     "metadata": {},
     "output_type": "execute_result"
    }
   ],
   "source": [
    "f instanceof Foo; //f的__proto__一层层往上，与Foo.prototype对比"
   ]
  },
  {
   "cell_type": "code",
   "execution_count": 41,
   "metadata": {},
   "outputs": [
    {
     "data": {
      "text/plain": [
       "true"
      ]
     },
     "execution_count": 41,
     "metadata": {},
     "output_type": "execute_result"
    }
   ],
   "source": [
    "f instanceof Object;"
   ]
  },
  {
   "cell_type": "code",
   "execution_count": 44,
   "metadata": {},
   "outputs": [
    {
     "data": {
      "text/plain": [
       "null"
      ]
     },
     "execution_count": 44,
     "metadata": {},
     "output_type": "execute_result"
    }
   ],
   "source": [
    "Object.prototype.__proto__;"
   ]
  },
  {
   "cell_type": "code",
   "execution_count": 45,
   "metadata": {},
   "outputs": [
    {
     "ename": "TypeError",
     "evalue": "Right-hand side of 'instanceof' is not an object",
     "output_type": "error",
     "traceback": [
      "evalmachine.<anonymous>:1",
      "f instanceof null;",
      "  ^",
      "",
      "TypeError: Right-hand side of 'instanceof' is not an object",
      "    at evalmachine.<anonymous>:1:3",
      "    at Script.runInThisContext (vm.js:123:20)",
      "    at Object.runInThisContext (vm.js:313:38)",
      "    at run ([eval]:1002:15)",
      "    at onRunRequest ([eval]:829:18)",
      "    at onMessage ([eval]:789:13)",
      "    at process.emit (events.js:196:13)",
      "    at emit (internal/child_process.js:860:12)",
      "    at processTicksAndRejections (internal/process/task_queues.js:84:9)"
     ]
    }
   ],
   "source": [
    "f instanceof null;"
   ]
  },
  {
   "cell_type": "markdown",
   "metadata": {},
   "source": [
    "#### 1 如何准确判断一个变量是数组类型"
   ]
  },
  {
   "cell_type": "code",
   "execution_count": 46,
   "metadata": {},
   "outputs": [
    {
     "data": {
      "text/plain": [
       "true"
      ]
     },
     "execution_count": 46,
     "metadata": {},
     "output_type": "execute_result"
    }
   ],
   "source": [
    "var arr = [];\n",
    "arr instanceof Array;"
   ]
  },
  {
   "cell_type": "code",
   "execution_count": 47,
   "metadata": {},
   "outputs": [
    {
     "data": {
      "text/plain": [
       "'object'"
      ]
     },
     "execution_count": 47,
     "metadata": {},
     "output_type": "execute_result"
    }
   ],
   "source": [
    "typeof arr;"
   ]
  },
  {
   "cell_type": "markdown",
   "metadata": {},
   "source": [
    "#### 2 写一个原型链继承的例子"
   ]
  },
  {
   "cell_type": "code",
   "execution_count": 48,
   "metadata": {},
   "outputs": [
    {
     "name": "stdout",
     "output_type": "stream",
     "text": [
      "animal eat\n"
     ]
    }
   ],
   "source": [
    "function Animal(){\n",
    "    this.eat = function(){\n",
    "        console.log('animal eat');\n",
    "    }\n",
    "}\n",
    "function Dog(){\n",
    "    this.bark = function(){\n",
    "        console.log('dog bark');\n",
    "    }\n",
    "}\n",
    "Dog.prototype = new Animal(); //把默认的改掉；\n",
    "var hashiqi = new Dog();\n",
    "hashiqi.eat();"
   ]
  },
  {
   "cell_type": "markdown",
   "metadata": {},
   "source": [
    "#### 3 描述new一个对象的过程\n",
    "* 创建一个新对象\n",
    "* this 指向这个新对象\n",
    "* 执行代码，即对this （属性）赋值；\n",
    "* return this; "
   ]
  },
  {
   "cell_type": "markdown",
   "metadata": {},
   "source": [
    "#### 4 zepto源码中如何使用原型链\n",
    "* 读源码，高效提高技能。\n",
    "* 搜索 zepto设计和源码分析。"
   ]
  },
  {
   "cell_type": "markdown",
   "metadata": {},
   "source": [
    "#### 写一个封装DOM查询的例子"
   ]
  },
  {
   "cell_type": "code",
   "execution_count": 50,
   "metadata": {},
   "outputs": [
    {
     "ename": "ReferenceError",
     "evalue": "document is not defined",
     "output_type": "error",
     "traceback": [
      "evalmachine.<anonymous>:2",
      "    this.elem = document.getElementById(id);",
      "                ^",
      "",
      "ReferenceError: document is not defined",
      "    at new Elem (evalmachine.<anonymous>:2:17)",
      "    at evalmachine.<anonymous>:17:12",
      "    at Script.runInThisContext (vm.js:123:20)",
      "    at Object.runInThisContext (vm.js:313:38)",
      "    at run ([eval]:1002:15)",
      "    at onRunRequest ([eval]:829:18)",
      "    at onMessage ([eval]:789:13)",
      "    at process.emit (events.js:196:13)",
      "    at emit (internal/child_process.js:860:12)",
      "    at processTicksAndRejections (internal/process/task_queues.js:84:9)"
     ]
    }
   ],
   "source": [
    "function Elem(id){\n",
    "    this.elem = document.getElementById(id);\n",
    "}\n",
    "Elem.prototype.html = function (val){\n",
    "    var elem = this.elem;\n",
    "    if(val){\n",
    "        elem.innerHTML = val;\n",
    "        return this; //链式操作；\n",
    "    } else {\n",
    "        return elem.innerHTML;\n",
    "    }\n",
    "}\n",
    "Elem.prototype.on = function (type,fn){\n",
    "    var elem = this.elem;\n",
    "    elem.addEventListener(type,fn);\n",
    "}\n",
    "var div1 = new Elem('div1');\n",
    "console.log(div1.html());"
   ]
  },
  {
   "cell_type": "code",
   "execution_count": null,
   "metadata": {},
   "outputs": [],
   "source": [
    "div1.html(\"hello imooc\");\n",
    "div1.on('click',funcion(){\n",
    "        alert(\"clicked\");\n",
    "        })"
   ]
  },
  {
   "cell_type": "markdown",
   "metadata": {},
   "source": [
    "#### 对象的原型比较；"
   ]
  },
  {
   "cell_type": "code",
   "execution_count": 51,
   "metadata": {},
   "outputs": [
    {
     "data": {
      "text/plain": [
       "false"
      ]
     },
     "execution_count": 51,
     "metadata": {},
     "output_type": "execute_result"
    }
   ],
   "source": [
    "var dog1 = new Dog();\n",
    "var dog2 = new Dog();\n",
    "dog1 === dog2;"
   ]
  },
  {
   "cell_type": "code",
   "execution_count": 52,
   "metadata": {},
   "outputs": [
    {
     "data": {
      "text/plain": [
       "true"
      ]
     },
     "execution_count": 52,
     "metadata": {},
     "output_type": "execute_result"
    }
   ],
   "source": [
    "dog1.__proto__ === dog2.__proto__;"
   ]
  },
  {
   "cell_type": "code",
   "execution_count": 57,
   "metadata": {},
   "outputs": [
    {
     "data": {
      "text/plain": [
       "false"
      ]
     },
     "execution_count": 57,
     "metadata": {},
     "output_type": "execute_result"
    }
   ],
   "source": [
    "function cat(){};\n",
    "cat.prototype.__proto__ === Object;"
   ]
  },
  {
   "cell_type": "code",
   "execution_count": 66,
   "metadata": {},
   "outputs": [
    {
     "data": {
      "text/plain": [
       "{}"
      ]
     },
     "execution_count": 66,
     "metadata": {},
     "output_type": "execute_result"
    }
   ],
   "source": [
    "cat.__proto__.__proto__ "
   ]
  },
  {
   "cell_type": "code",
   "execution_count": 69,
   "metadata": {
    "scrolled": true
   },
   "outputs": [
    {
     "data": {
      "text/plain": [
       "{}"
      ]
     },
     "execution_count": 69,
     "metadata": {},
     "output_type": "execute_result"
    }
   ],
   "source": [
    "var x = {};\n",
    "x.__proto__"
   ]
  },
  {
   "cell_type": "code",
   "execution_count": 70,
   "metadata": {},
   "outputs": [
    {
     "data": {
      "text/plain": [
       "true"
      ]
     },
     "execution_count": 70,
     "metadata": {},
     "output_type": "execute_result"
    }
   ],
   "source": [
    "cat.__proto__.__proto__ === x.__proto__ //不同的来源使用共同的隐式原型"
   ]
  },
  {
   "cell_type": "code",
   "execution_count": 71,
   "metadata": {},
   "outputs": [
    {
     "data": {
      "text/plain": [
       "10"
      ]
     },
     "execution_count": 71,
     "metadata": {},
     "output_type": "execute_result"
    }
   ],
   "source": [
    "cat.__proto__.__proto__.age = 10;"
   ]
  },
  {
   "cell_type": "code",
   "execution_count": 72,
   "metadata": {},
   "outputs": [
    {
     "data": {
      "text/plain": [
       "10"
      ]
     },
     "execution_count": 72,
     "metadata": {},
     "output_type": "execute_result"
    }
   ],
   "source": [
    "x.__proto__.age //共用同一原型； "
   ]
  },
  {
   "cell_type": "code",
   "execution_count": null,
   "metadata": {},
   "outputs": [],
   "source": []
  }
 ],
 "metadata": {
  "kernelspec": {
   "display_name": "Javascript (Node.js)",
   "language": "javascript",
   "name": "javascript"
  },
  "language_info": {
   "file_extension": ".js",
   "mimetype": "application/javascript",
   "name": "javascript",
   "version": "12.2.0"
  }
 },
 "nbformat": 4,
 "nbformat_minor": 2
}
