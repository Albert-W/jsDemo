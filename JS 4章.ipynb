{
 "cells": [
  {
   "cell_type": "markdown",
   "metadata": {},
   "source": [
    "### 异步"
   ]
  },
  {
   "cell_type": "code",
   "execution_count": 1,
   "metadata": {},
   "outputs": [
    {
     "name": "stdout",
     "output_type": "stream",
     "text": [
      "100\n",
      "300\n",
      "200\n"
     ]
    }
   ],
   "source": [
    "console.log(100)\n",
    "setTimeout(function(){\n",
    "    console.log(200)\n",
    "},1000)\n",
    "console.log(300)"
   ]
  },
  {
   "cell_type": "code",
   "execution_count": 2,
   "metadata": {},
   "outputs": [
    {
     "name": "stdout",
     "output_type": "stream",
     "text": [
      "100\n"
     ]
    },
    {
     "ename": "ReferenceError",
     "evalue": "alert is not defined",
     "output_type": "error",
     "traceback": [
      "evalmachine.<anonymous>:2",
      "alert(200) ",
      "^",
      "",
      "ReferenceError: alert is not defined",
      "    at evalmachine.<anonymous>:2:1",
      "    at Script.runInThisContext (vm.js:123:20)",
      "    at Object.runInThisContext (vm.js:313:38)",
      "    at run ([eval]:1002:15)",
      "    at onRunRequest ([eval]:829:18)",
      "    at onMessage ([eval]:789:13)",
      "    at process.emit (events.js:196:13)",
      "    at emit (internal/child_process.js:860:12)",
      "    at processTicksAndRejections (internal/process/task_queues.js:84:9)"
     ]
    }
   ],
   "source": [
    "console.log(100)\n",
    "alert(200) // nodejs中没有\n",
    "console.log(300)"
   ]
  },
  {
   "cell_type": "code",
   "execution_count": 3,
   "metadata": {},
   "outputs": [
    {
     "name": "stdout",
     "output_type": "stream",
     "text": [
      "100\n",
      "300\n",
      "200\n"
     ]
    }
   ],
   "source": [
    "console.log(100)\n",
    "setTimeout(function(){\n",
    "    console.log(200)\n",
    "})\n",
    "console.log(300)"
   ]
  },
  {
   "cell_type": "markdown",
   "metadata": {},
   "source": [
    "### 日期"
   ]
  },
  {
   "cell_type": "code",
   "execution_count": 4,
   "metadata": {},
   "outputs": [
    {
     "data": {
      "text/plain": [
       "1565773077813"
      ]
     },
     "execution_count": 4,
     "metadata": {},
     "output_type": "execute_result"
    }
   ],
   "source": [
    "Date.now()"
   ]
  },
  {
   "cell_type": "code",
   "execution_count": 5,
   "metadata": {},
   "outputs": [
    {
     "data": {
      "text/plain": [
       "1565773097629"
      ]
     },
     "execution_count": 5,
     "metadata": {},
     "output_type": "execute_result"
    }
   ],
   "source": [
    "var dt = new Date()\n",
    "dt.getTime()"
   ]
  },
  {
   "cell_type": "code",
   "execution_count": 28,
   "metadata": {},
   "outputs": [
    {
     "name": "stdout",
     "output_type": "stream",
     "text": [
      "2019-08-14T08:58:17.629Z\n"
     ]
    }
   ],
   "source": [
    "console.log(dt)"
   ]
  },
  {
   "cell_type": "code",
   "execution_count": 7,
   "metadata": {},
   "outputs": [
    {
     "data": {
      "text/plain": [
       "2019"
      ]
     },
     "execution_count": 7,
     "metadata": {},
     "output_type": "execute_result"
    }
   ],
   "source": [
    "dt.getFullYear()"
   ]
  },
  {
   "cell_type": "code",
   "execution_count": 8,
   "metadata": {},
   "outputs": [
    {
     "data": {
      "text/plain": [
       "7"
      ]
     },
     "execution_count": 8,
     "metadata": {},
     "output_type": "execute_result"
    }
   ],
   "source": [
    "dt.getMonth() //0-11，需要加1"
   ]
  },
  {
   "cell_type": "code",
   "execution_count": 9,
   "metadata": {},
   "outputs": [
    {
     "data": {
      "text/plain": [
       "14"
      ]
     },
     "execution_count": 9,
     "metadata": {},
     "output_type": "execute_result"
    }
   ],
   "source": [
    "dt.getDate() "
   ]
  },
  {
   "cell_type": "code",
   "execution_count": 10,
   "metadata": {},
   "outputs": [
    {
     "data": {
      "text/plain": [
       "9"
      ]
     },
     "execution_count": 10,
     "metadata": {},
     "output_type": "execute_result"
    }
   ],
   "source": [
    "dt.getHours()"
   ]
  },
  {
   "cell_type": "code",
   "execution_count": 11,
   "metadata": {},
   "outputs": [
    {
     "data": {
      "text/plain": [
       "58"
      ]
     },
     "execution_count": 11,
     "metadata": {},
     "output_type": "execute_result"
    }
   ],
   "source": [
    "dt.getMinutes()"
   ]
  },
  {
   "cell_type": "code",
   "execution_count": 12,
   "metadata": {},
   "outputs": [
    {
     "data": {
      "text/plain": [
       "17"
      ]
     },
     "execution_count": 12,
     "metadata": {},
     "output_type": "execute_result"
    }
   ],
   "source": [
    "dt.getSeconds()"
   ]
  },
  {
   "cell_type": "markdown",
   "metadata": {},
   "source": [
    "格式化日期"
   ]
  },
  {
   "cell_type": "code",
   "execution_count": 33,
   "metadata": {},
   "outputs": [],
   "source": [
    "function formatDate(dt){\n",
    "    if(!dt){\n",
    "        dt = new Date()\n",
    "    }\n",
    "    var year = dt.getFullYear()\n",
    "    var month = dt.getMonth() +1 \n",
    "    var date = dt.getDate() \n",
    "    if (month < 10){\n",
    "        month = '0'+month\n",
    "    }\n",
    "    if (date<10){\n",
    "        date = '0'+date\n",
    "    }\n",
    "    return year+'-'+month+'-'+date\n",
    "}"
   ]
  },
  {
   "cell_type": "code",
   "execution_count": 34,
   "metadata": {},
   "outputs": [
    {
     "name": "stdout",
     "output_type": "stream",
     "text": [
      "2019-08-14\n"
     ]
    }
   ],
   "source": [
    "var dt = new Date()\n",
    "var formatDate = formatDate(dt)\n",
    "console.log(formatDate)"
   ]
  },
  {
   "cell_type": "markdown",
   "metadata": {},
   "source": [
    "### 数学"
   ]
  },
  {
   "cell_type": "code",
   "execution_count": 13,
   "metadata": {},
   "outputs": [
    {
     "data": {
      "text/plain": [
       "0.804345164401105"
      ]
     },
     "execution_count": 13,
     "metadata": {},
     "output_type": "execute_result"
    }
   ],
   "source": [
    "Math.random() [0,1] //位数是不定长的"
   ]
  },
  {
   "cell_type": "markdown",
   "metadata": {},
   "source": [
    "### 数组API"
   ]
  },
  {
   "cell_type": "markdown",
   "metadata": {},
   "source": [
    "forEach"
   ]
  },
  {
   "cell_type": "code",
   "execution_count": 17,
   "metadata": {},
   "outputs": [
    {
     "name": "stdout",
     "output_type": "stream",
     "text": [
      "0 1\n",
      "1 2\n",
      "2 3\n"
     ]
    }
   ],
   "source": [
    "var arr = [1,2,3]\n",
    "arr.forEach(function(item,index){\n",
    "    console.log(index,item)\n",
    "})"
   ]
  },
  {
   "cell_type": "code",
   "execution_count": 19,
   "metadata": {},
   "outputs": [
    {
     "name": "stdout",
     "output_type": "stream",
     "text": [
      "1 0\n",
      "2 1\n",
      "3 2\n"
     ]
    }
   ],
   "source": [
    "var arr = [1,2,3]\n",
    "arr.forEach(function(index,item){ // value, key 的格式\n",
    "    console.log(index,item)\n",
    "})"
   ]
  },
  {
   "cell_type": "code",
   "execution_count": 22,
   "metadata": {},
   "outputs": [
    {
     "name": "stdout",
     "output_type": "stream",
     "text": [
      "true\n"
     ]
    }
   ],
   "source": [
    "var arr = [1,2,3]\n",
    "var result = arr.every(function(item,index){ // every 全部需要满足\n",
    "    if(item<4){\n",
    "        return true\n",
    "    }\n",
    "})\n",
    "console.log(result)"
   ]
  },
  {
   "cell_type": "code",
   "execution_count": 23,
   "metadata": {},
   "outputs": [
    {
     "name": "stdout",
     "output_type": "stream",
     "text": [
      "true\n"
     ]
    }
   ],
   "source": [
    "var arr = [1,2,3]\n",
    "var result = arr.some(function(item,index){ // some 只需一个满足\n",
    "    if(item<2){\n",
    "        return true\n",
    "    }\n",
    "})\n",
    "console.log(result)"
   ]
  },
  {
   "cell_type": "code",
   "execution_count": 25,
   "metadata": {},
   "outputs": [
    {
     "name": "stdout",
     "output_type": "stream",
     "text": [
      "[ 5, 4, 3, 2, 1 ]\n"
     ]
    }
   ],
   "source": [
    "var arr = [1,2,5,3,4]\n",
    "var result = arr.sort(function(a,b){ // some 只需一个满足\n",
    "    // 从小到大排序\n",
    "//     return a - b \n",
    "    // 从大到小排序\n",
    "    return b - a\n",
    "})\n",
    "console.log(result)"
   ]
  },
  {
   "cell_type": "code",
   "execution_count": 26,
   "metadata": {},
   "outputs": [
    {
     "name": "stdout",
     "output_type": "stream",
     "text": [
      "[ '<b>1</b>', '<b>2</b>', '<b>3</b>' ]\n"
     ]
    }
   ],
   "source": [
    "var arr = [1,2,3]\n",
    "var arr2 = arr.map(function(item,index){\n",
    "    return '<b>' + item + '</b>'\n",
    "})\n",
    "console.log(arr2)"
   ]
  },
  {
   "cell_type": "code",
   "execution_count": 27,
   "metadata": {},
   "outputs": [
    {
     "name": "stdout",
     "output_type": "stream",
     "text": [
      "[ 2, 3 ]\n"
     ]
    }
   ],
   "source": [
    "var arr = [1,2,3]\n",
    "var arr2 = arr.filter(function(item,index){\n",
    "    if (item >= 2){\n",
    "        return true\n",
    "    }\n",
    "})\n",
    "console.log(arr2)"
   ]
  },
  {
   "cell_type": "markdown",
   "metadata": {},
   "source": [
    "### 对象API"
   ]
  },
  {
   "cell_type": "code",
   "execution_count": 30,
   "metadata": {},
   "outputs": [
    {
     "name": "stdout",
     "output_type": "stream",
     "text": [
      "x 100\n",
      "y 200\n",
      "z 300\n"
     ]
    }
   ],
   "source": [
    "var obj = {\n",
    "    x:100,\n",
    "    y:200,\n",
    "    z:300\n",
    "}\n",
    "var key\n",
    "for (key in obj){\n",
    "    if (obj.hasOwnProperty(key)){\n",
    "        console.log(key,obj[key])\n",
    "    }\n",
    "}"
   ]
  },
  {
   "cell_type": "code",
   "execution_count": 35,
   "metadata": {},
   "outputs": [],
   "source": [
    "function forEach(obj,fn){\n",
    "    var key\n",
    "    if (obj instanceof Array){\n",
    "        obj.forEach(function (item, index){\n",
    "            fn(index, item)\n",
    "        })\n",
    "    } else {\n",
    "        for(key in obj){\n",
    "            fn(key, obj[key])\n",
    "        }\n",
    "    }\n",
    "}"
   ]
  },
  {
   "cell_type": "code",
   "execution_count": 36,
   "metadata": {},
   "outputs": [
    {
     "name": "stdout",
     "output_type": "stream",
     "text": [
      "0 1\n",
      "1 2\n",
      "2 3\n",
      "x 100\n",
      "y 200\n"
     ]
    }
   ],
   "source": [
    "var arr = [1,2,3]\n",
    "forEach(arr, function(index, item){\n",
    "    console.log(index,item)\n",
    "})\n",
    "var obj = {x:100, y:200}\n",
    "forEach(obj, function(key, value){\n",
    "    console.log(key,value)\n",
    "})"
   ]
  },
  {
   "cell_type": "code",
   "execution_count": 37,
   "metadata": {},
   "outputs": [
    {
     "data": {
      "text/plain": [
       "'linux'"
      ]
     },
     "execution_count": 37,
     "metadata": {},
     "output_type": "execute_result"
    }
   ],
   "source": [
    "os.platform()"
   ]
  },
  {
   "cell_type": "code",
   "execution_count": 38,
   "metadata": {},
   "outputs": [
    {
     "data": {
      "text/plain": [
       "{\n",
       "  arch: [Function: arch] { [Symbol(Symbol.toPrimitive)]: [Function] },\n",
       "  cpus: [Function: cpus],\n",
       "  endianness: [Function: endianness] { [Symbol(Symbol.toPrimitive)]: [Function] },\n",
       "  freemem: [Function: getFreeMem] { [Symbol(Symbol.toPrimitive)]: [Function] },\n",
       "  getPriority: [Function: getPriority],\n",
       "  homedir: [Function: hidden] { [Symbol(Symbol.toPrimitive)]: [Function] },\n",
       "  hostname: [Function: hidden] { [Symbol(Symbol.toPrimitive)]: [Function] },\n",
       "  loadavg: [Function: loadavg],\n",
       "  networkInterfaces: [Function: networkInterfaces],\n",
       "  platform: [Function: platform] { [Symbol(Symbol.toPrimitive)]: [Function] },\n",
       "  release: [Function: hidden] { [Symbol(Symbol.toPrimitive)]: [Function] },\n",
       "  setPriority: [Function: setPriority],\n",
       "  tmpdir: [Function: tmpdir] { [Symbol(Symbol.toPrimitive)]: [Function] },\n",
       "  totalmem: [Function: getTotalMem] { [Symbol(Symbol.toPrimitive)]: [Function] },\n",
       "  type: [Function: hidden] { [Symbol(Symbol.toPrimitive)]: [Function] },\n",
       "  userInfo: [Function: userInfo],\n",
       "  uptime: [Function: getUptime] { [Symbol(Symbol.toPrimitive)]: [Function] },\n",
       "  tmpDir: [Function: deprecated],\n",
       "  constants: [Object: null prototype] {\n",
       "    UV_UDP_REUSEADDR: 4,\n",
       "    dlopen: [Object: null prototype] {\n",
       "      RTLD_LAZY: 1,\n",
       "      RTLD_NOW: 2,\n",
       "      RTLD_GLOBAL: 256,\n",
       "      RTLD_LOCAL: 0,\n",
       "      RTLD_DEEPBIND: 8\n",
       "    },\n",
       "    errno: [Object: null prototype] {\n",
       "      E2BIG: 7,\n",
       "      EACCES: 13,\n",
       "      EADDRINUSE: 98,\n",
       "      EADDRNOTAVAIL: 99,\n",
       "      EAFNOSUPPORT: 97,\n",
       "      EAGAIN: 11,\n",
       "      EALREADY: 114,\n",
       "      EBADF: 9,\n",
       "      EBADMSG: 74,\n",
       "      EBUSY: 16,\n",
       "      ECANCELED: 125,\n",
       "      ECHILD: 10,\n",
       "      ECONNABORTED: 103,\n",
       "      ECONNREFUSED: 111,\n",
       "      ECONNRESET: 104,\n",
       "      EDEADLK: 35,\n",
       "      EDESTADDRREQ: 89,\n",
       "      EDOM: 33,\n",
       "      EDQUOT: 122,\n",
       "      EEXIST: 17,\n",
       "      EFAULT: 14,\n",
       "      EFBIG: 27,\n",
       "      EHOSTUNREACH: 113,\n",
       "      EIDRM: 43,\n",
       "      EILSEQ: 84,\n",
       "      EINPROGRESS: 115,\n",
       "      EINTR: 4,\n",
       "      EINVAL: 22,\n",
       "      EIO: 5,\n",
       "      EISCONN: 106,\n",
       "      EISDIR: 21,\n",
       "      ELOOP: 40,\n",
       "      EMFILE: 24,\n",
       "      EMLINK: 31,\n",
       "      EMSGSIZE: 90,\n",
       "      EMULTIHOP: 72,\n",
       "      ENAMETOOLONG: 36,\n",
       "      ENETDOWN: 100,\n",
       "      ENETRESET: 102,\n",
       "      ENETUNREACH: 101,\n",
       "      ENFILE: 23,\n",
       "      ENOBUFS: 105,\n",
       "      ENODATA: 61,\n",
       "      ENODEV: 19,\n",
       "      ENOENT: 2,\n",
       "      ENOEXEC: 8,\n",
       "      ENOLCK: 37,\n",
       "      ENOLINK: 67,\n",
       "      ENOMEM: 12,\n",
       "      ENOMSG: 42,\n",
       "      ENOPROTOOPT: 92,\n",
       "      ENOSPC: 28,\n",
       "      ENOSR: 63,\n",
       "      ENOSTR: 60,\n",
       "      ENOSYS: 38,\n",
       "      ENOTCONN: 107,\n",
       "      ENOTDIR: 20,\n",
       "      ENOTEMPTY: 39,\n",
       "      ENOTSOCK: 88,\n",
       "      ENOTSUP: 95,\n",
       "      ENOTTY: 25,\n",
       "      ENXIO: 6,\n",
       "      EOPNOTSUPP: 95,\n",
       "      EOVERFLOW: 75,\n",
       "      EPERM: 1,\n",
       "      EPIPE: 32,\n",
       "      EPROTO: 71,\n",
       "      EPROTONOSUPPORT: 93,\n",
       "      EPROTOTYPE: 91,\n",
       "      ERANGE: 34,\n",
       "      EROFS: 30,\n",
       "      ESPIPE: 29,\n",
       "      ESRCH: 3,\n",
       "      ESTALE: 116,\n",
       "      ETIME: 62,\n",
       "      ETIMEDOUT: 110,\n",
       "      ETXTBSY: 26,\n",
       "      EWOULDBLOCK: 11,\n",
       "      EXDEV: 18\n",
       "    },\n",
       "    signals: [Object: null prototype] {\n",
       "      SIGHUP: 1,\n",
       "      SIGINT: 2,\n",
       "      SIGQUIT: 3,\n",
       "      SIGILL: 4,\n",
       "      SIGTRAP: 5,\n",
       "      SIGABRT: 6,\n",
       "      SIGIOT: 6,\n",
       "      SIGBUS: 7,\n",
       "      SIGFPE: 8,\n",
       "      SIGKILL: 9,\n",
       "      SIGUSR1: 10,\n",
       "      SIGSEGV: 11,\n",
       "      SIGUSR2: 12,\n",
       "      SIGPIPE: 13,\n",
       "      SIGALRM: 14,\n",
       "      SIGTERM: 15,\n",
       "      SIGCHLD: 17,\n",
       "      SIGSTKFLT: 16,\n",
       "      SIGCONT: 18,\n",
       "      SIGSTOP: 19,\n",
       "      SIGTSTP: 20,\n",
       "      SIGTTIN: 21,\n",
       "      SIGTTOU: 22,\n",
       "      SIGURG: 23,\n",
       "      SIGXCPU: 24,\n",
       "      SIGXFSZ: 25,\n",
       "      SIGVTALRM: 26,\n",
       "      SIGPROF: 27,\n",
       "      SIGWINCH: 28,\n",
       "      SIGIO: 29,\n",
       "      SIGPOLL: 29,\n",
       "      SIGPWR: 30,\n",
       "      SIGSYS: 31,\n",
       "      SIGUNUSED: 31\n",
       "    },\n",
       "    priority: [Object: null prototype] {\n",
       "      PRIORITY_LOW: 19,\n",
       "      PRIORITY_BELOW_NORMAL: 10,\n",
       "      PRIORITY_NORMAL: 0,\n",
       "      PRIORITY_ABOVE_NORMAL: -7,\n",
       "      PRIORITY_HIGH: -14,\n",
       "      PRIORITY_HIGHEST: -20\n",
       "    }\n",
       "  },\n",
       "  EOL: '\\n'\n",
       "}"
      ]
     },
     "execution_count": 38,
     "metadata": {},
     "output_type": "execute_result"
    }
   ],
   "source": [
    "os"
   ]
  },
  {
   "cell_type": "code",
   "execution_count": 39,
   "metadata": {},
   "outputs": [
    {
     "ename": "ReferenceError",
     "evalue": "screen is not defined",
     "output_type": "error",
     "traceback": [
      "evalmachine.<anonymous>:1",
      "console.log(screen.width)",
      "            ^",
      "",
      "ReferenceError: screen is not defined",
      "    at evalmachine.<anonymous>:1:13",
      "    at Script.runInThisContext (vm.js:123:20)",
      "    at Object.runInThisContext (vm.js:313:38)",
      "    at run ([eval]:1002:15)",
      "    at onRunRequest ([eval]:829:18)",
      "    at onMessage ([eval]:789:13)",
      "    at process.emit (events.js:196:13)",
      "    at emit (internal/child_process.js:860:12)",
      "    at processTicksAndRejections (internal/process/task_queues.js:84:9)"
     ]
    }
   ],
   "source": [
    "console.log(screen.width)"
   ]
  },
  {
   "cell_type": "code",
   "execution_count": null,
   "metadata": {},
   "outputs": [],
   "source": []
  }
 ],
 "metadata": {
  "kernelspec": {
   "display_name": "Javascript (Node.js)",
   "language": "javascript",
   "name": "javascript"
  },
  "language_info": {
   "file_extension": ".js",
   "mimetype": "application/javascript",
   "name": "javascript",
   "version": "12.2.0"
  },
  "toc": {
   "base_numbering": 1,
   "nav_menu": {},
   "number_sections": true,
   "sideBar": true,
   "skip_h1_title": false,
   "title_cell": "Table of Contents",
   "title_sidebar": "Contents",
   "toc_cell": false,
   "toc_position": {},
   "toc_section_display": true,
   "toc_window_display": false
  },
  "varInspector": {
   "cols": {
    "lenName": 16,
    "lenType": 16,
    "lenVar": 40
   },
   "kernels_config": {
    "python": {
     "delete_cmd_postfix": "",
     "delete_cmd_prefix": "del ",
     "library": "var_list.py",
     "varRefreshCmd": "print(var_dic_list())"
    },
    "r": {
     "delete_cmd_postfix": ") ",
     "delete_cmd_prefix": "rm(",
     "library": "var_list.r",
     "varRefreshCmd": "cat(var_dic_list()) "
    }
   },
   "types_to_exclude": [
    "module",
    "function",
    "builtin_function_or_method",
    "instance",
    "_Feature"
   ],
   "window_display": false
  }
 },
 "nbformat": 4,
 "nbformat_minor": 2
}
