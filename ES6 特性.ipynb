{
 "cells": [
  {
   "cell_type": "markdown",
   "metadata": {},
   "source": [
    "### 关键字"
   ]
  },
  {
   "cell_type": "markdown",
   "metadata": {},
   "source": [
    "#### let "
   ]
  },
  {
   "cell_type": "code",
   "execution_count": null,
   "metadata": {},
   "outputs": [],
   "source": [
    "//ES5\n",
    "// 无块级作用域\n",
    "if (true) {\n",
    "    var i = 1;\n",
    "}\n",
    "console.log(i);\n"
   ]
  },
  {
   "cell_type": "code",
   "execution_count": null,
   "metadata": {},
   "outputs": [],
   "source": [
    "//ES6\n",
    "// 有块级作用域，外部找不到。 \n",
    "if (true) {\n",
    "    let j = 1;\n",
    "}\n",
    "console.log(j);"
   ]
  },
  {
   "cell_type": "code",
   "execution_count": null,
   "metadata": {},
   "outputs": [],
   "source": [
    "// ES5 , 允许重复定义\n",
    "var i = 0;\n",
    "switch (i) {\n",
    "  case 0:\n",
    "    var value = \"helo\";\n",
    "    console.log(value);    \n",
    "    break;\n",
    "  case 1:\n",
    "    var value = \"world\"; \n",
    "    console.log(value);    \n",
    "    break;\n",
    "}"
   ]
  },
  {
   "cell_type": "code",
   "execution_count": null,
   "metadata": {},
   "outputs": [],
   "source": [
    "var i = 0;\n",
    "switch (i) {\n",
    "  case 0:\n",
    "    let value = \"helo\";\n",
    "    break;\n",
    "  case 1:\n",
    "    let value = \"world\"; //Identifier 'value' has already been declared\n",
    "    break;\n",
    "}"
   ]
  },
  {
   "cell_type": "markdown",
   "metadata": {},
   "source": [
    "#### const"
   ]
  },
  {
   "cell_type": "code",
   "execution_count": null,
   "metadata": {},
   "outputs": [],
   "source": [
    "const data = 10;\n",
    "console.log(data);\n",
    "data = 100; //TypeError: Assignment to constant variable."
   ]
  },
  {
   "cell_type": "code",
   "execution_count": null,
   "metadata": {},
   "outputs": [],
   "source": [
    "const list = [10,20,30];\n",
    "console.log(list);\n",
    "\n",
    "list[0] = 100; //引用型变量时，内容可以改变。 \n",
    "console.log(list);"
   ]
  },
  {
   "cell_type": "code",
   "execution_count": null,
   "metadata": {},
   "outputs": [],
   "source": [
    "list = [1,2,3]; //TypeError: Assignment to constant variable."
   ]
  },
  {
   "cell_type": "markdown",
   "metadata": {},
   "source": [
    "#### \n",
    "0b:二进制    \n",
    "0o:八进制    \n",
    "0x:十六进制    "
   ]
  },
  {
   "cell_type": "code",
   "execution_count": null,
   "metadata": {},
   "outputs": [],
   "source": [
    "console.log(0b10); //2\n",
    "console.log(0o10); //8\n",
    "console.log(0x10); //16"
   ]
  },
  {
   "cell_type": "code",
   "execution_count": null,
   "metadata": {},
   "outputs": [],
   "source": [
    "console.log(0b11 === 3); //true\n",
    "console.log(0o10 === 8); //true\n",
    "console.log(0x10 === 16);//true"
   ]
  },
  {
   "cell_type": "code",
   "execution_count": null,
   "metadata": {},
   "outputs": [],
   "source": [
    "let num = 10;\n",
    "console.log(num.toString(8)); //8进制转换\n",
    "console.log(num.toString(2)); //2进制转换\n",
    "console.log(num.toString(16));//16进制转换\n",
    "console.log(num.toString(5)); //5进制？嘿嘿"
   ]
  },
  {
   "cell_type": "markdown",
   "metadata": {},
   "source": [
    "#### 嵌入字符串"
   ]
  },
  {
   "cell_type": "code",
   "execution_count": null,
   "metadata": {},
   "outputs": [],
   "source": [
    "let name = \"Koma\"\n",
    "let mystr1 = \"你好，${name}!\"\n",
    "let mystr2 = `你好，${name}！再见。` //定义字符串模板"
   ]
  },
  {
   "cell_type": "code",
   "execution_count": null,
   "metadata": {},
   "outputs": [],
   "source": [
    "console.log(mystr1) //输入原字符串\n",
    "console.log(mystr2)"
   ]
  },
  {
   "cell_type": "code",
   "execution_count": null,
   "metadata": {},
   "outputs": [],
   "source": [
    "// 解析模板\n",
    "function tagged(formats, ...args){\n",
    "    console.log(formats)\n",
    "    console.log(args)\n",
    "}"
   ]
  },
  {
   "cell_type": "code",
   "execution_count": null,
   "metadata": {},
   "outputs": [],
   "source": [
    "tagged`你好，${name}！再见。`"
   ]
  },
  {
   "cell_type": "code",
   "execution_count": null,
   "metadata": {},
   "outputs": [],
   "source": [
    "//标准使用\n",
    "//let name = \"Koma\" //already been declared\n",
    "let address = \"网吧\"\n",
    "let mystr = `你好，${name}！\n",
    "晚上一起去${address}玩吗？\n",
    "等你的回信。`\n",
    "console.log(mystr)"
   ]
  },
  {
   "cell_type": "code",
   "execution_count": null,
   "metadata": {},
   "outputs": [],
   "source": [
    "//展开使用 \n",
    "function markdown(formats, ...args){\n",
    "  console.log(formats)\n",
    "  console.log(args)\n",
    "  var result = \"# 信息标题\\n\";\n",
    "  for(var i = 0; i < formats.length; i++)\n",
    "    result += formats[i] + \"**\" + (args[i] || '') + \"**\";\n",
    "  return result;\n",
    "}"
   ]
  },
  {
   "cell_type": "code",
   "execution_count": null,
   "metadata": {},
   "outputs": [],
   "source": [
    "let fmtstr = markdown`你好，${name}！\n",
    "晚上一起去${address}玩吗？\n",
    "等你的回信。`\n",
    "console.log(fmtstr)"
   ]
  },
  {
   "cell_type": "markdown",
   "metadata": {},
   "source": [
    "#### Symbol 类型"
   ]
  },
  {
   "cell_type": "code",
   "execution_count": null,
   "metadata": {},
   "outputs": [],
   "source": [
    "let str1 = String(\"HeloWorld\");\n",
    "let str2 = String(\"HeloWorld\");\n",
    "console.log(str1 == str2);  //值比较结果：true\n",
    "console.log(str1 === str2); //值与类型比较 结果：true"
   ]
  },
  {
   "cell_type": "code",
   "execution_count": null,
   "metadata": {},
   "outputs": [],
   "source": [
    "let s1 = Symbol(\"mySymbol\"); //分配了内部hash 为 唯一id.\n",
    "let s2 = Symbol(\"mySymbol\");\n",
    "console.log(typeof s1);     //结果：symbol\n",
    "console.log(s1.toString()); //结果：Symbol(mySymbol)\n",
    "console.log(s1 == s2);      //比较的内部id, 结果：false\n",
    "console.log(s1 === s2);     //结果：false"
   ]
  },
  {
   "cell_type": "markdown",
   "metadata": {},
   "source": [
    "##### symbol 作为常量"
   ]
  },
  {
   "cell_type": "code",
   "execution_count": null,
   "metadata": {},
   "outputs": [],
   "source": [
    "const Java = Symbol();\n",
    "const Ruby = Symbol();\n",
    "const Perl = Symbol();\n",
    "const Php  = Symbol();\n",
    "const VB   = Symbol();\n",
    "\n",
    "var lang = Php;\n",
    "\n",
    "if (lang === Java) {\n",
    "    console.log('Java的未来在哪里？');\n",
    "}\n",
    "if (lang === Ruby) {\n",
    "    console.log('再学个Ruby on Rails吧。');\n",
    "}"
   ]
  },
  {
   "cell_type": "code",
   "execution_count": null,
   "metadata": {},
   "outputs": [],
   "source": [
    "var s3 = Symbol(\"mySymbol\");\n",
    "var s4 = Symbol(\"mySymbol\");\n",
    "\n",
    "var obj = {};\n",
    "obj[s1] = \"helo\";\n",
    "obj[s2] = \"world\";\n",
    "\n",
    "console.log(obj);\n",
    "console.log(obj[s1]);\n",
    "console.log(obj[s2]);"
   ]
  },
  {
   "cell_type": "code",
   "execution_count": null,
   "metadata": {},
   "outputs": [],
   "source": [
    "// 半隐藏属性\n",
    "const MYKEY = Symbol();\n",
    "class User {\n",
    "    constructor(key,name,age){\n",
    "        this[MYKEY] = key;\n",
    "        this.name = name;\n",
    "        this.age = age;\n",
    "    }\n",
    "    checkKEY(key){\n",
    "        return this[MYKEY] === key;\n",
    "    }\n",
    "}\n",
    "\n",
    "let user = new User(123, 'Curry', 29);\n",
    "console.log(user.name, user.age, user[MYKEY]);\n",
    "console.log(user.checkKEY(123));   //true\n",
    "console.log(user.checkKEY(456));   //false\n",
    "console.log(Object.keys(user));    //不能输出隐藏的属性[ 'name', 'age' ]\n",
    "console.log(JSON.stringify(user)); //不能输出隐藏的属性{\"name\":\"Curry\",\"age\":29}"
   ]
  },
  {
   "cell_type": "markdown",
   "metadata": {},
   "source": [
    "### 解构赋值"
   ]
  },
  {
   "cell_type": "code",
   "execution_count": null,
   "metadata": {},
   "outputs": [],
   "source": [
    "//数组赋值\n",
    "let [a, b, c] = [10, 20, 30];\n",
    "console.log(a, b, c);"
   ]
  },
  {
   "cell_type": "code",
   "execution_count": null,
   "metadata": {},
   "outputs": [],
   "source": [
    "let [x, y, ...other] = [1,2,3,4,5];\n",
    "console.log(x, y, other);"
   ]
  },
  {
   "cell_type": "code",
   "execution_count": null,
   "metadata": {},
   "outputs": [],
   "source": [
    "//对象赋值,用于给函数传参\n",
    "let {name, age} = { name: 'Koma', age: 20 };\n",
    "console.log(name, age);"
   ]
  },
  {
   "cell_type": "code",
   "execution_count": null,
   "metadata": {},
   "outputs": [],
   "source": [
    "//函数赋值\n",
    "function func1() {\n",
    "    return [10, 20];\n",
    "}\n",
    "let [num1, num2] = func1();\n",
    "console.log(num1, num2);"
   ]
  },
  {
   "cell_type": "code",
   "execution_count": null,
   "metadata": {},
   "outputs": [],
   "source": [
    "//函数参数名指定\n",
    "function func2({x=1, y=2}){\n",
    "    return x+y;\n",
    "}\n",
    "console.log(func2({}));           //3\n",
    "console.log(func2({x:10}));       //12\n",
    "console.log(func2({y:10}));       //11\n",
    "console.log(func2({x:10, y:20})); //30"
   ]
  },
  {
   "cell_type": "markdown",
   "metadata": {},
   "source": [
    "### 数组循环"
   ]
  },
  {
   "cell_type": "code",
   "execution_count": null,
   "metadata": {},
   "outputs": [],
   "source": [
    "let list = [10, 20, 30];\n",
    "//Array.prototype.Len = function(){};\n",
    "// 用于循环数组\n",
    "for(let val of list)\n",
    "    console.log(val);"
   ]
  },
  {
   "cell_type": "code",
   "execution_count": null,
   "metadata": {},
   "outputs": [],
   "source": [
    "// in 只能得到下标。\n",
    "// 还会取出其他属性。 len  function(){}\n",
    "// 用于循环对象。\n",
    "for(let val in list)\n",
    "    console.log(val, list[val]);"
   ]
  },
  {
   "cell_type": "markdown",
   "metadata": {},
   "source": [
    "### 函数的默认值"
   ]
  },
  {
   "cell_type": "code",
   "execution_count": null,
   "metadata": {},
   "outputs": [],
   "source": [
    "//字符参数\n",
    "function sayHelo(name = \"Curry\"){\n",
    "    console.log(`Helo ${name}`);\n",
    "}\n",
    "sayHelo();\n",
    "sayHelo(\"Koma\");"
   ]
  },
  {
   "cell_type": "code",
   "execution_count": null,
   "metadata": {},
   "outputs": [],
   "source": [
    "//数值计算\n",
    "function add(a=1, b=a){\n",
    "    return a+b;\n",
    "}\n",
    "console.log(add());\n",
    "console.log(add(10));\n",
    "console.log(add(10, 20));"
   ]
  },
  {
   "cell_type": "code",
   "execution_count": null,
   "metadata": {},
   "outputs": [],
   "source": [
    "//必须指定参数\n",
    "function required(){\n",
    "    throw new Error(\"参数未制定\");\n",
    "}\n",
    "function sayBye(name=required()){\n",
    "    console.log(`${name} bye!`);\n",
    "}\n",
    "sayBye('Koma');\n",
    "//sayBye();"
   ]
  },
  {
   "cell_type": "markdown",
   "metadata": {},
   "source": [
    "### 可变长参数"
   ]
  },
  {
   "cell_type": "code",
   "execution_count": null,
   "metadata": {},
   "outputs": [],
   "source": [
    "function sum(...args) {\n",
    "    let result = 0;\n",
    "    args.forEach(val => {\n",
    "        result += val;\n",
    "    });\n",
    "    return result;\n",
    "}\n",
    "\n",
    "console.log(sum(1,2,3));\n",
    "console.log(sum(1,2,3,4,5,6,7,8,9,10));"
   ]
  },
  {
   "cell_type": "markdown",
   "metadata": {},
   "source": [
    "### 箭头函数"
   ]
  },
  {
   "cell_type": "code",
   "execution_count": null,
   "metadata": {},
   "outputs": [],
   "source": [
    "let list = [10, 20, 30];\n",
    "//ES5\n",
    "let newlist = list.map(function(value, index){\n",
    "    return value * value;\n",
    "});\n",
    "console.log(newlist);"
   ]
  },
  {
   "cell_type": "code",
   "execution_count": null,
   "metadata": {},
   "outputs": [],
   "source": [
    "//ES6\n",
    "newlist = list.map((value, index) => {\n",
    "    return value * value;\n",
    "});\n",
    "console.log(newlist);"
   ]
  },
  {
   "cell_type": "code",
   "execution_count": null,
   "metadata": {},
   "outputs": [],
   "source": [
    "newlist = list.map(value => {\n",
    "    return value * value;\n",
    "});\n",
    "console.log(newlist);"
   ]
  },
  {
   "cell_type": "markdown",
   "metadata": {},
   "source": [
    "### 基本对象 \n",
    "与JSon 兼容"
   ]
  },
  {
   "cell_type": "code",
   "execution_count": null,
   "metadata": {},
   "outputs": [],
   "source": [
    "let title = \"ES6从入门到学会\";\n",
    "let price = 25;\n",
    "let publish = \"小马出版社\";\n",
    "\n",
    "let book = {\n",
    "    title, price, publish,\n",
    "    toString(){\n",
    "        console.log(`<<${this.title}>> is ${price}元。`);\n",
    "    }\n",
    "};\n",
    "book['lang'] = \"简体中文\";"
   ]
  },
  {
   "cell_type": "code",
   "execution_count": null,
   "metadata": {},
   "outputs": [],
   "source": [
    "console.log(book);\n",
    "book.toString();"
   ]
  },
  {
   "cell_type": "markdown",
   "metadata": {},
   "source": [
    "### class \n",
    "\n",
    "之前用function"
   ]
  },
  {
   "cell_type": "code",
   "execution_count": null,
   "metadata": {},
   "outputs": [],
   "source": [
    "class Player {\n",
    "    constructor(name, sex) {\n",
    "        this.name = name;\n",
    "        this.sex = sex;\n",
    "    }\n",
    "    show(){\n",
    "        console.log(`${this.name}的性别是${this.sex}。`);\n",
    "    }\n",
    "    static info(){\n",
    "        console.log(\"这是一个球员类，您可以使用它建立自己的球员。\");\n",
    "    }\n",
    "}"
   ]
  },
  {
   "cell_type": "markdown",
   "metadata": {},
   "source": [
    "不用实例，直接使用的方法，静态方法"
   ]
  },
  {
   "cell_type": "code",
   "execution_count": null,
   "metadata": {},
   "outputs": [],
   "source": [
    "let player = new Player(\"库里\", \"男\");\n",
    "console.log(player.name, player.sex);\n",
    "player.show();\n",
    "//直接用类名\n",
    "Player.info();"
   ]
  },
  {
   "cell_type": "code",
   "execution_count": null,
   "metadata": {},
   "outputs": [],
   "source": [
    "// 用实例引用不到\n",
    "player.info();"
   ]
  },
  {
   "cell_type": "markdown",
   "metadata": {},
   "source": [
    "#### 类中定义setter/getter方法"
   ]
  },
  {
   "cell_type": "code",
   "execution_count": null,
   "metadata": {},
   "outputs": [],
   "source": [
    "class Player2 {\n",
    "    constructor(name, sex) {\n",
    "        this.name = name;\n",
    "        this.sex = sex;\n",
    "    }\n",
    "\n",
    "    get age(){\n",
    "        return this._age;\n",
    "    }\n",
    "    set age(val){\n",
    "        this._age = val;\n",
    "    }\n",
    "}"
   ]
  },
  {
   "cell_type": "code",
   "execution_count": null,
   "metadata": {},
   "outputs": [],
   "source": [
    "player = new Player2(\"库里\", \"男\");\n",
    "player.age = 28;\n",
    "console.log(player);\n",
    "console.log(player.age);"
   ]
  },
  {
   "cell_type": "markdown",
   "metadata": {},
   "source": [
    "在不使用set 时，并无相应的属性"
   ]
  },
  {
   "cell_type": "markdown",
   "metadata": {},
   "source": [
    "#### 类继承"
   ]
  },
  {
   "cell_type": "code",
   "execution_count": null,
   "metadata": {},
   "outputs": [],
   "source": [
    "class Car {\n",
    "    constructor(brand){\n",
    "        this.brand = brand;\n",
    "    }\n",
    "    show(){\n",
    "        console.log(`本台车的品牌是${this.brand}`);\n",
    "    }\n",
    "}"
   ]
  },
  {
   "cell_type": "code",
   "execution_count": null,
   "metadata": {},
   "outputs": [],
   "source": [
    "class Lexus extends Car {\n",
    "    constructor(brand, lineup) {\n",
    "        super(brand);\n",
    "        this.lineup = lineup;\n",
    "    }\n",
    "    getPrice(){\n",
    "        switch(this.lineup){\n",
    "            case \"RX\":\n",
    "                return 60;\n",
    "            case \"NX\":\n",
    "                return 40;\n",
    "            default:\n",
    "                throw new Error(\"未知车类别\");\n",
    "        }\n",
    "    }\n",
    "}"
   ]
  },
  {
   "cell_type": "code",
   "execution_count": null,
   "metadata": {},
   "outputs": [],
   "source": [
    "let mycar = new Lexus(\"Lexus\", \"RX\");\n",
    "mycar.show();\n",
    "console.log(\"价格是：\", mycar.getPrice(), \"万\");"
   ]
  },
  {
   "cell_type": "markdown",
   "metadata": {},
   "source": [
    "#### 循环对象"
   ]
  },
  {
   "cell_type": "code",
   "execution_count": null,
   "metadata": {},
   "outputs": [],
   "source": [
    "list  = [10, 20, 30];\n",
    "let mystr = '你好啊';\n",
    "let mymap = new Map();\n",
    "mymap.set('JS', 'Javascript');\n",
    "mymap.set('PL', 'Perl');\n",
    "mymap.set('PY', 'Python');"
   ]
  },
  {
   "cell_type": "code",
   "execution_count": null,
   "metadata": {},
   "outputs": [],
   "source": [
    "for(let val of list){\n",
    "\tconsole.log(val);\n",
    "}"
   ]
  },
  {
   "cell_type": "code",
   "execution_count": null,
   "metadata": {},
   "outputs": [],
   "source": [
    "for(let val of mystr){\n",
    "\tconsole.log(val);\n",
    "}"
   ]
  },
  {
   "cell_type": "code",
   "execution_count": null,
   "metadata": {},
   "outputs": [],
   "source": [
    "for(let [key,value] of mymap){\n",
    "\tconsole.log(key, value);\n",
    "}"
   ]
  },
  {
   "cell_type": "code",
   "execution_count": null,
   "metadata": {},
   "outputs": [],
   "source": [
    "// 给迭代器\n",
    "let it = mymap.values();\n",
    "let tmp;\n",
    "while(tmp = it.next()){\n",
    "\tif (tmp.done) break;\n",
    "\tconsole.log(tmp.value, tmp.done);\n",
    "}"
   ]
  },
  {
   "cell_type": "code",
   "execution_count": null,
   "metadata": {},
   "outputs": [],
   "source": [
    "it = mymap.values();\n",
    "while(tmp = it.next()){\n",
    "\tif (tmp.done) break;\n",
    "\tconsole.log(tmp);\n",
    "}"
   ]
  },
  {
   "cell_type": "markdown",
   "metadata": {},
   "source": [
    "####  可迭代的对象"
   ]
  },
  {
   "cell_type": "code",
   "execution_count": null,
   "metadata": {},
   "outputs": [],
   "source": [
    "class Player3 {\n",
    "\tconstructor(list){\n",
    "\t\tthis.list = list;\n",
    "\t}\n",
    "\t[Symbol.iterator](){\n",
    "\t\tlet current = 0;\n",
    "        // thist 会发生变化\n",
    "\t\tlet that = this;\n",
    "\t\treturn {\n",
    "\t\t\tnext(){\n",
    "\t\t\t\treturn current < that.list.length ? \n",
    "                    {value:that.list[current++], done:false} : {done:true};\n",
    "\t\t\t}\n",
    "\t\t};\n",
    "\t}\n",
    "}"
   ]
  },
  {
   "cell_type": "code",
   "execution_count": null,
   "metadata": {},
   "outputs": [],
   "source": [
    "player = new Player3(['Curry', 'Harden', 'LeBron']);\n",
    "for(let tmp of player){\n",
    "\tconsole.log(tmp);\n",
    "}"
   ]
  },
  {
   "cell_type": "markdown",
   "metadata": {},
   "source": [
    "### 简单迭代生成器"
   ]
  },
  {
   "cell_type": "code",
   "execution_count": null,
   "metadata": {},
   "outputs": [],
   "source": [
    "// 每次调用返回的值是不一样的。\n",
    "function* myGenerator() {\n",
    "\tyield '一';\n",
    "\tyield '条';\n",
    "\tyield '大';\n",
    "\tyield '河';\n",
    "}"
   ]
  },
  {
   "cell_type": "code",
   "execution_count": null,
   "metadata": {},
   "outputs": [],
   "source": [
    "for(let val of myGenerator()){\n",
    "\tconsole.log(val);\n",
    "}"
   ]
  },
  {
   "cell_type": "code",
   "execution_count": null,
   "metadata": {},
   "outputs": [],
   "source": [
    "function* countdown(begin){\n",
    "\twhile(begin > 0){\n",
    "\t\tyield begin--;\n",
    "\t}\n",
    "}"
   ]
  },
  {
   "cell_type": "code",
   "execution_count": null,
   "metadata": {},
   "outputs": [],
   "source": [
    "for(let tmp of countdown(5)){\n",
    "\tconsole.log(tmp);\n",
    "}"
   ]
  },
  {
   "cell_type": "markdown",
   "metadata": {},
   "source": [
    "使合循环数据库结果集"
   ]
  },
  {
   "cell_type": "markdown",
   "metadata": {},
   "source": [
    "### 简单迭代类"
   ]
  },
  {
   "cell_type": "code",
   "execution_count": null,
   "metadata": {},
   "outputs": [],
   "source": [
    "class MyList {\n",
    "\tconstructor(list){\n",
    "\t\tthis.list = list;\n",
    "\t\tthis[Symbol.iterator] = function*(){\n",
    "\t\t\tlet current = 0;\n",
    "\t\t\tlet that = this;\n",
    "\t\t\twhile(current < that.list.length){\n",
    "\t\t\t\tyield that.list[current++];\n",
    "\t\t\t}\n",
    "\t\t}\n",
    "\t}\n",
    "}"
   ]
  },
  {
   "cell_type": "code",
   "execution_count": null,
   "metadata": {},
   "outputs": [],
   "source": [
    "let mylist = new MyList([100, 200, 300, 400, 500]);\n",
    "for(let val of mylist){\n",
    "\tconsole.log(val);\n",
    "}"
   ]
  },
  {
   "cell_type": "markdown",
   "metadata": {},
   "source": [
    "### 模块化设计"
   ]
  },
  {
   "cell_type": "code",
   "execution_count": null,
   "metadata": {},
   "outputs": [],
   "source": [
    "import {add1, minus1} from './math.js';"
   ]
  },
  {
   "cell_type": "code",
   "execution_count": null,
   "metadata": {},
   "outputs": [],
   "source": [
    "const add1 = require('./math.js')"
   ]
  },
  {
   "cell_type": "markdown",
   "metadata": {},
   "source": [
    "### 类模块设计和引用"
   ]
  },
  {
   "cell_type": "code",
   "execution_count": null,
   "metadata": {},
   "outputs": [],
   "source": [
    "import Player from './player.js';"
   ]
  },
  {
   "cell_type": "code",
   "execution_count": null,
   "metadata": {},
   "outputs": [],
   "source": [
    "const Player = require('./player.js')"
   ]
  },
  {
   "cell_type": "markdown",
   "metadata": {},
   "source": [
    "### Node.js 模块系统\n",
    "每个文件都使用 module 变量访问当前模块定义。当前模块的导出由 module.exports 变量确定。\n",
    "\n",
    "要导入模块，请使用全局变量的require函数。"
   ]
  },
  {
   "cell_type": "code",
   "execution_count": 1,
   "metadata": {},
   "outputs": [
    {
     "data": {
      "text/plain": [
       "[Function: Player]"
      ]
     },
     "execution_count": 1,
     "metadata": {},
     "output_type": "execute_result"
    }
   ],
   "source": [
    "Player = require('./player.js')"
   ]
  },
  {
   "cell_type": "code",
   "execution_count": 3,
   "metadata": {},
   "outputs": [
    {
     "name": "stdout",
     "output_type": "stream",
     "text": [
      "Helo Curry.\n"
     ]
    }
   ],
   "source": [
    "curry = new Player('Curry');\n",
    "curry.sayHelo();"
   ]
  },
  {
   "cell_type": "code",
   "execution_count": null,
   "metadata": {},
   "outputs": [],
   "source": []
  }
 ],
 "metadata": {
  "kernelspec": {
   "display_name": "Javascript (Node.js)",
   "language": "javascript",
   "name": "javascript"
  },
  "language_info": {
   "file_extension": ".js",
   "mimetype": "application/javascript",
   "name": "javascript",
   "version": "12.2.0"
  },
  "toc": {
   "base_numbering": 1,
   "nav_menu": {},
   "number_sections": true,
   "sideBar": true,
   "skip_h1_title": false,
   "title_cell": "Table of Contents",
   "title_sidebar": "Contents",
   "toc_cell": false,
   "toc_position": {},
   "toc_section_display": true,
   "toc_window_display": true
  },
  "varInspector": {
   "cols": {
    "lenName": 16,
    "lenType": 16,
    "lenVar": 40
   },
   "kernels_config": {
    "python": {
     "delete_cmd_postfix": "",
     "delete_cmd_prefix": "del ",
     "library": "var_list.py",
     "varRefreshCmd": "print(var_dic_list())"
    },
    "r": {
     "delete_cmd_postfix": ") ",
     "delete_cmd_prefix": "rm(",
     "library": "var_list.r",
     "varRefreshCmd": "cat(var_dic_list()) "
    }
   },
   "types_to_exclude": [
    "module",
    "function",
    "builtin_function_or_method",
    "instance",
    "_Feature"
   ],
   "window_display": false
  }
 },
 "nbformat": 4,
 "nbformat_minor": 2
}
