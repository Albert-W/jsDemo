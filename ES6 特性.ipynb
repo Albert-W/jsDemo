{
 "cells": [
  {
   "cell_type": "markdown",
   "metadata": {},
   "source": [
    "#### let "
   ]
  },
  {
   "cell_type": "code",
   "execution_count": 1,
   "metadata": {},
   "outputs": [
    {
     "name": "stdout",
     "output_type": "stream",
     "text": [
      "1\n"
     ]
    }
   ],
   "source": [
    "//ES5\n",
    "// 无块级作用域\n",
    "if (true) {\n",
    "    var i = 1;\n",
    "}\n",
    "console.log(i);\n"
   ]
  },
  {
   "cell_type": "code",
   "execution_count": 3,
   "metadata": {},
   "outputs": [
    {
     "ename": "ReferenceError",
     "evalue": "j is not defined",
     "output_type": "error",
     "traceback": [
      "evalmachine.<anonymous>:5",
      "console.log(j);",
      "            ^",
      "",
      "ReferenceError: j is not defined",
      "    at evalmachine.<anonymous>:5:13",
      "    at Script.runInThisContext (vm.js:123:20)",
      "    at Object.runInThisContext (vm.js:313:38)",
      "    at run ([eval]:1002:15)",
      "    at onRunRequest ([eval]:829:18)",
      "    at onMessage ([eval]:789:13)",
      "    at process.emit (events.js:196:13)",
      "    at emit (internal/child_process.js:860:12)",
      "    at processTicksAndRejections (internal/process/task_queues.js:84:9)"
     ]
    }
   ],
   "source": [
    "//ES6\n",
    "// 有块级作用域，外部找不到。 \n",
    "if (true) {\n",
    "    let j = 1;\n",
    "}\n",
    "console.log(j);"
   ]
  },
  {
   "cell_type": "code",
   "execution_count": 5,
   "metadata": {},
   "outputs": [
    {
     "name": "stdout",
     "output_type": "stream",
     "text": [
      "helo\n"
     ]
    }
   ],
   "source": [
    "// ES5 , 允许重复定义\n",
    "var i = 0;\n",
    "switch (i) {\n",
    "  case 0:\n",
    "    var value = \"helo\";\n",
    "    console.log(value);    \n",
    "    break;\n",
    "  case 1:\n",
    "    var value = \"world\"; \n",
    "    console.log(value);    \n",
    "    break;\n",
    "}"
   ]
  },
  {
   "cell_type": "code",
   "execution_count": 6,
   "metadata": {},
   "outputs": [
    {
     "ename": "SyntaxError",
     "evalue": "Identifier 'value' has already been declared",
     "output_type": "error",
     "traceback": [
      "evalmachine.<anonymous>:7",
      "    let value = \"world\"; //重复定义错误",
      "        ^",
      "",
      "SyntaxError: Identifier 'value' has already been declared",
      "    at new Script (vm.js:83:7)",
      "    at createScript (vm.js:265:10)",
      "    at Object.runInThisContext (vm.js:313:10)",
      "    at run ([eval]:1002:15)",
      "    at onRunRequest ([eval]:829:18)",
      "    at onMessage ([eval]:789:13)",
      "    at process.emit (events.js:196:13)",
      "    at emit (internal/child_process.js:860:12)",
      "    at processTicksAndRejections (internal/process/task_queues.js:84:9)"
     ]
    }
   ],
   "source": [
    "var i = 0;\n",
    "switch (i) {\n",
    "  case 0:\n",
    "    let value = \"helo\";\n",
    "    break;\n",
    "  case 1:\n",
    "    let value = \"world\"; //Identifier 'value' has already been declared\n",
    "    break;\n",
    "}"
   ]
  },
  {
   "cell_type": "markdown",
   "metadata": {},
   "source": [
    "#### const"
   ]
  },
  {
   "cell_type": "code",
   "execution_count": 7,
   "metadata": {},
   "outputs": [
    {
     "name": "stdout",
     "output_type": "stream",
     "text": [
      "10\n"
     ]
    },
    {
     "ename": "TypeError",
     "evalue": "Assignment to constant variable.",
     "output_type": "error",
     "traceback": [
      "evalmachine.<anonymous>:3",
      "data = 100; //执行错误",
      "     ^",
      "",
      "TypeError: Assignment to constant variable.",
      "    at evalmachine.<anonymous>:3:6",
      "    at Script.runInThisContext (vm.js:123:20)",
      "    at Object.runInThisContext (vm.js:313:38)",
      "    at run ([eval]:1002:15)",
      "    at onRunRequest ([eval]:829:18)",
      "    at onMessage ([eval]:789:13)",
      "    at process.emit (events.js:196:13)",
      "    at emit (internal/child_process.js:860:12)",
      "    at processTicksAndRejections (internal/process/task_queues.js:84:9)"
     ]
    }
   ],
   "source": [
    "const data = 10;\n",
    "console.log(data);\n",
    "data = 100; //TypeError: Assignment to constant variable."
   ]
  },
  {
   "cell_type": "code",
   "execution_count": 8,
   "metadata": {},
   "outputs": [
    {
     "name": "stdout",
     "output_type": "stream",
     "text": [
      "[ 10, 20, 30 ]\n",
      "[ 100, 20, 30 ]\n"
     ]
    }
   ],
   "source": [
    "const list = [10,20,30];\n",
    "console.log(list);\n",
    "\n",
    "list[0] = 100; //引用型变量时，内容可以改变。 \n",
    "console.log(list);"
   ]
  },
  {
   "cell_type": "code",
   "execution_count": 9,
   "metadata": {},
   "outputs": [
    {
     "ename": "TypeError",
     "evalue": "Assignment to constant variable.",
     "output_type": "error",
     "traceback": [
      "evalmachine.<anonymous>:1",
      "list = [1,2,3]; //",
      "     ^",
      "",
      "TypeError: Assignment to constant variable.",
      "    at evalmachine.<anonymous>:1:6",
      "    at Script.runInThisContext (vm.js:123:20)",
      "    at Object.runInThisContext (vm.js:313:38)",
      "    at run ([eval]:1002:15)",
      "    at onRunRequest ([eval]:829:18)",
      "    at onMessage ([eval]:789:13)",
      "    at process.emit (events.js:196:13)",
      "    at emit (internal/child_process.js:860:12)",
      "    at processTicksAndRejections (internal/process/task_queues.js:84:9)"
     ]
    }
   ],
   "source": [
    "list = [1,2,3]; //TypeError: Assignment to constant variable."
   ]
  },
  {
   "cell_type": "markdown",
   "metadata": {},
   "source": [
    "#### \n",
    "0b:二进制    \n",
    "0o:八进制    \n",
    "0x:十六进制    "
   ]
  },
  {
   "cell_type": "code",
   "execution_count": 10,
   "metadata": {},
   "outputs": [
    {
     "name": "stdout",
     "output_type": "stream",
     "text": [
      "2\n",
      "8\n",
      "16\n"
     ]
    }
   ],
   "source": [
    "console.log(0b10); //2\n",
    "console.log(0o10); //8\n",
    "console.log(0x10); //16"
   ]
  },
  {
   "cell_type": "code",
   "execution_count": 11,
   "metadata": {},
   "outputs": [
    {
     "name": "stdout",
     "output_type": "stream",
     "text": [
      "true\n",
      "true\n",
      "true\n"
     ]
    }
   ],
   "source": [
    "console.log(0b11 === 3); //true\n",
    "console.log(0o10 === 8); //true\n",
    "console.log(0x10 === 16);//true"
   ]
  },
  {
   "cell_type": "code",
   "execution_count": 12,
   "metadata": {},
   "outputs": [
    {
     "name": "stdout",
     "output_type": "stream",
     "text": [
      "12\n",
      "1010\n",
      "a\n",
      "20\n"
     ]
    }
   ],
   "source": [
    "let num = 10;\n",
    "console.log(num.toString(8)); //8进制转换\n",
    "console.log(num.toString(2)); //2进制转换\n",
    "console.log(num.toString(16));//16进制转换\n",
    "console.log(num.toString(5)); //5进制？嘿嘿"
   ]
  },
  {
   "cell_type": "markdown",
   "metadata": {},
   "source": [
    "#### 嵌入字符串"
   ]
  },
  {
   "cell_type": "code",
   "execution_count": 13,
   "metadata": {},
   "outputs": [],
   "source": [
    "let name = \"Koma\"\n",
    "let mystr1 = \"你好，${name}!\"\n",
    "let mystr2 = `你好，${name}！再见。` //定义字符串模板"
   ]
  },
  {
   "cell_type": "code",
   "execution_count": 14,
   "metadata": {},
   "outputs": [
    {
     "name": "stdout",
     "output_type": "stream",
     "text": [
      "你好，${name}!\n",
      "你好，Koma！再见。\n"
     ]
    }
   ],
   "source": [
    "console.log(mystr1) //输入原字符串\n",
    "console.log(mystr2)"
   ]
  },
  {
   "cell_type": "code",
   "execution_count": 15,
   "metadata": {},
   "outputs": [],
   "source": [
    "// 解析模板\n",
    "function tagged(formats, ...args){\n",
    "    console.log(formats)\n",
    "    console.log(args)\n",
    "}"
   ]
  },
  {
   "cell_type": "code",
   "execution_count": 16,
   "metadata": {},
   "outputs": [
    {
     "name": "stdout",
     "output_type": "stream",
     "text": [
      "[ '你好，', '！再见。' ]\n",
      "[ 'Koma' ]\n"
     ]
    }
   ],
   "source": [
    "tagged`你好，${name}！再见。`"
   ]
  },
  {
   "cell_type": "code",
   "execution_count": 18,
   "metadata": {},
   "outputs": [
    {
     "name": "stdout",
     "output_type": "stream",
     "text": [
      "你好，Koma！\n",
      "晚上一起去网吧玩吗？\n",
      "等你的回信。\n"
     ]
    }
   ],
   "source": [
    "//标准使用\n",
    "//let name = \"Koma\" //already been declared\n",
    "let address = \"网吧\"\n",
    "let mystr = `你好，${name}！\n",
    "晚上一起去${address}玩吗？\n",
    "等你的回信。`\n",
    "console.log(mystr)"
   ]
  },
  {
   "cell_type": "code",
   "execution_count": 19,
   "metadata": {},
   "outputs": [],
   "source": [
    "//展开使用 \n",
    "function markdown(formats, ...args){\n",
    "  console.log(formats)\n",
    "  console.log(args)\n",
    "  var result = \"# 信息标题\\n\";\n",
    "  for(var i = 0; i < formats.length; i++)\n",
    "    result += formats[i] + \"**\" + (args[i] || '') + \"**\";\n",
    "  return result;\n",
    "}"
   ]
  },
  {
   "cell_type": "code",
   "execution_count": 20,
   "metadata": {},
   "outputs": [
    {
     "name": "stdout",
     "output_type": "stream",
     "text": [
      "[ '你好，', '！\\n晚上一起去', '玩吗？\\n等你的回信。' ]\n",
      "[ 'Koma', '网吧' ]\n",
      "# 信息标题\n",
      "你好，**Koma**！\n",
      "晚上一起去**网吧**玩吗？\n",
      "等你的回信。****\n"
     ]
    }
   ],
   "source": [
    "let fmtstr = markdown`你好，${name}！\n",
    "晚上一起去${address}玩吗？\n",
    "等你的回信。`\n",
    "console.log(fmtstr)"
   ]
  },
  {
   "cell_type": "markdown",
   "metadata": {},
   "source": [
    "#### Symbol 类型"
   ]
  },
  {
   "cell_type": "code",
   "execution_count": 21,
   "metadata": {},
   "outputs": [
    {
     "name": "stdout",
     "output_type": "stream",
     "text": [
      "true\n",
      "true\n"
     ]
    }
   ],
   "source": [
    "let str1 = String(\"HeloWorld\");\n",
    "let str2 = String(\"HeloWorld\");\n",
    "console.log(str1 == str2);  //值比较结果：true\n",
    "console.log(str1 === str2); //值与类型比较 结果：true"
   ]
  },
  {
   "cell_type": "code",
   "execution_count": 22,
   "metadata": {},
   "outputs": [
    {
     "name": "stdout",
     "output_type": "stream",
     "text": [
      "symbol\n",
      "Symbol(mySymbol)\n",
      "false\n",
      "false\n"
     ]
    }
   ],
   "source": [
    "let s1 = Symbol(\"mySymbol\"); //分配了内部hash 为 唯一id.\n",
    "let s2 = Symbol(\"mySymbol\");\n",
    "console.log(typeof s1);     //结果：symbol\n",
    "console.log(s1.toString()); //结果：Symbol(mySymbol)\n",
    "console.log(s1 == s2);      //比较的内部id, 结果：false\n",
    "console.log(s1 === s2);     //结果：false"
   ]
  },
  {
   "cell_type": "markdown",
   "metadata": {},
   "source": [
    "##### symbol 作为常量"
   ]
  },
  {
   "cell_type": "code",
   "execution_count": 24,
   "metadata": {
    "collapsed": true
   },
   "outputs": [
    {
     "ename": "SyntaxError",
     "evalue": "Identifier 'Java' has already been declared",
     "output_type": "error",
     "traceback": [
      "evalmachine.<anonymous>:1",
      "const Java = Symbol();",
      "^",
      "",
      "SyntaxError: Identifier 'Java' has already been declared",
      "    at evalmachine.<anonymous>:1:1",
      "    at Script.runInThisContext (vm.js:123:20)",
      "    at Object.runInThisContext (vm.js:313:38)",
      "    at run ([eval]:1002:15)",
      "    at onRunRequest ([eval]:829:18)",
      "    at onMessage ([eval]:789:13)",
      "    at process.emit (events.js:196:13)",
      "    at emit (internal/child_process.js:860:12)",
      "    at processTicksAndRejections (internal/process/task_queues.js:84:9)"
     ]
    }
   ],
   "source": [
    "const Java = Symbol();\n",
    "const Ruby = Symbol();\n",
    "const Perl = Symbol();\n",
    "const Php  = Symbol();\n",
    "const VB   = Symbol();\n",
    "\n",
    "var lang = Php;\n",
    "\n",
    "if (lang === Java) {\n",
    "    console.log('Java的未来在哪里？');\n",
    "}\n",
    "if (lang === Ruby) {\n",
    "    console.log('再学个Ruby on Rails吧。');\n",
    "}"
   ]
  },
  {
   "cell_type": "code",
   "execution_count": 27,
   "metadata": {},
   "outputs": [
    {
     "name": "stdout",
     "output_type": "stream",
     "text": [
      "{ [Symbol(mySymbol)]: 'helo', [Symbol(mySymbol)]: 'world' }\n",
      "helo\n",
      "world\n"
     ]
    }
   ],
   "source": [
    "var s3 = Symbol(\"mySymbol\");\n",
    "var s4 = Symbol(\"mySymbol\");\n",
    "\n",
    "var obj = {};\n",
    "obj[s1] = \"helo\";\n",
    "obj[s2] = \"world\";\n",
    "\n",
    "console.log(obj);\n",
    "console.log(obj[s1]);\n",
    "console.log(obj[s2]);"
   ]
  },
  {
   "cell_type": "code",
   "execution_count": 28,
   "metadata": {},
   "outputs": [
    {
     "name": "stdout",
     "output_type": "stream",
     "text": [
      "Curry 29 123\n",
      "true\n",
      "false\n",
      "[ 'name', 'age' ]\n",
      "{\"name\":\"Curry\",\"age\":29}\n"
     ]
    }
   ],
   "source": [
    "// 半隐藏属性\n",
    "const MYKEY = Symbol();\n",
    "class User {\n",
    "    constructor(key,name,age){\n",
    "        this[MYKEY] = key;\n",
    "        this.name = name;\n",
    "        this.age = age;\n",
    "    }\n",
    "    checkKEY(key){\n",
    "        return this[MYKEY] === key;\n",
    "    }\n",
    "}\n",
    "\n",
    "let user = new User(123, 'Curry', 29);\n",
    "console.log(user.name, user.age, user[MYKEY]);\n",
    "console.log(user.checkKEY(123));   //true\n",
    "console.log(user.checkKEY(456));   //false\n",
    "console.log(Object.keys(user));    //不能输出隐藏的属性[ 'name', 'age' ]\n",
    "console.log(JSON.stringify(user)); //不能输出隐藏的属性{\"name\":\"Curry\",\"age\":29}"
   ]
  },
  {
   "cell_type": "code",
   "execution_count": null,
   "metadata": {},
   "outputs": [],
   "source": []
  }
 ],
 "metadata": {
  "kernelspec": {
   "display_name": "Javascript (Node.js)",
   "language": "javascript",
   "name": "javascript"
  },
  "language_info": {
   "file_extension": ".js",
   "mimetype": "application/javascript",
   "name": "javascript",
   "version": "12.2.0"
  },
  "toc": {
   "base_numbering": 1,
   "nav_menu": {},
   "number_sections": true,
   "sideBar": true,
   "skip_h1_title": false,
   "title_cell": "Table of Contents",
   "title_sidebar": "Contents",
   "toc_cell": false,
   "toc_position": {},
   "toc_section_display": true,
   "toc_window_display": false
  },
  "varInspector": {
   "cols": {
    "lenName": 16,
    "lenType": 16,
    "lenVar": 40
   },
   "kernels_config": {
    "python": {
     "delete_cmd_postfix": "",
     "delete_cmd_prefix": "del ",
     "library": "var_list.py",
     "varRefreshCmd": "print(var_dic_list())"
    },
    "r": {
     "delete_cmd_postfix": ") ",
     "delete_cmd_prefix": "rm(",
     "library": "var_list.r",
     "varRefreshCmd": "cat(var_dic_list()) "
    }
   },
   "types_to_exclude": [
    "module",
    "function",
    "builtin_function_or_method",
    "instance",
    "_Feature"
   ],
   "window_display": false
  }
 },
 "nbformat": 4,
 "nbformat_minor": 2
}
