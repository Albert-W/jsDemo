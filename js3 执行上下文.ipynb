{
 "cells": [
  {
   "cell_type": "markdown",
   "metadata": {},
   "source": [
    "### 执行上下文\n",
    "\n",
    "执行第一行之前：  \n",
    "* 变量会提前  \n",
    "* 函数声明为提前\n",
    "* this arguments 确定"
   ]
  },
  {
   "cell_type": "code",
   "execution_count": 1,
   "metadata": {},
   "outputs": [
    {
     "name": "stdout",
     "output_type": "stream",
     "text": [
      "声明\n"
     ]
    }
   ],
   "source": [
    "fn();\n",
    "//这是全局函数，提到了最前, 因此为正确执行\n",
    "function fn(){ //函数声明会被提前\n",
    "    console.log('声明');\n",
    "}"
   ]
  },
  {
   "cell_type": "code",
   "execution_count": 2,
   "metadata": {
    "scrolled": true
   },
   "outputs": [
    {
     "ename": "TypeError",
     "evalue": "fn1 is not a function",
     "output_type": "error",
     "traceback": [
      "evalmachine.<anonymous>:1",
      "fn1(); //fn1此时为undefined; ",
      "^",
      "",
      "TypeError: fn1 is not a function",
      "    at evalmachine.<anonymous>:1:1",
      "    at Script.runInThisContext (vm.js:123:20)",
      "    at Object.runInThisContext (vm.js:313:38)",
      "    at run ([eval]:1002:15)",
      "    at onRunRequest ([eval]:829:18)",
      "    at onMessage ([eval]:789:13)",
      "    at process.emit (events.js:196:13)",
      "    at emit (internal/child_process.js:860:12)",
      "    at processTicksAndRejections (internal/process/task_queues.js:84:9)"
     ]
    }
   ],
   "source": [
    "fn1(); //fn1此时为undefined; \n",
    "var fn1 = function(){ //这是函数表达式\n",
    "    console.log('表达式');\n",
    "}"
   ]
  },
  {
   "cell_type": "code",
   "execution_count": 3,
   "metadata": {},
   "outputs": [
    {
     "name": "stdout",
     "output_type": "stream",
     "text": [
      "undefined\n"
     ]
    }
   ],
   "source": [
    "// var a = undefined \n",
    "console.log(a); //此前有一步 var a = undefined; \n",
    "var a = 100;"
   ]
  },
  {
   "cell_type": "code",
   "execution_count": 5,
   "metadata": {},
   "outputs": [
    {
     "name": "stdout",
     "output_type": "stream",
     "text": [
      "zhangsan 20\n",
      "100\n"
     ]
    }
   ],
   "source": [
    "//全局环境\n",
    "fn('zhangsan')\n",
    "function fn(name){ //提前到全局最前\n",
    "    age = 20 \n",
    "    console.log(name, age)\n",
    "    var age //提前到函数体最前\n",
    "    \n",
    "    bar(100)\n",
    "    function bar(num){ //提前到函数体前端\n",
    "        console.log(num)\n",
    "    }\n",
    "}"
   ]
  },
  {
   "cell_type": "markdown",
   "metadata": {},
   "source": [
    "### this  \n",
    "this 要在执行时才能确认值，定义时无法确认     \n",
    "arguments也是如此    "
   ]
  },
  {
   "cell_type": "code",
   "execution_count": 6,
   "metadata": {
    "scrolled": true
   },
   "outputs": [
    {
     "name": "stdout",
     "output_type": "stream",
     "text": [
      "Object [global] {\n",
      "  global: [Circular],\n",
      "  clearInterval: [Function: clearInterval],\n",
      "  clearTimeout: [Function: clearTimeout],\n",
      "  setInterval: [Function: setInterval],\n",
      "  setTimeout: [Function: setTimeout] { [Symbol(util.promisify.custom)]: [Function] },\n",
      "  queueMicrotask: [Function: queueMicrotask],\n",
      "  clearImmediate: [Function: clearImmediate],\n",
      "  setImmediate: [Function: setImmediate] {\n",
      "    [Symbol(util.promisify.custom)]: [Function]\n",
      "  },\n",
      "  __filename: '[eval]',\n",
      "  exports: {},\n",
      "  module: Module {\n",
      "    id: '[eval]',\n",
      "    path: '.',\n",
      "    exports: {},\n",
      "    parent: undefined,\n",
      "    filename: '/mnt/e/codes/Test/jsDemo/[eval]',\n",
      "    loaded: false,\n",
      "    children: [],\n",
      "    paths: [\n",
      "      '/mnt/e/codes/Test/jsDemo/node_modules',\n",
      "      '/mnt/e/codes/Test/node_modules',\n",
      "      '/mnt/e/codes/node_modules',\n",
      "      '/mnt/e/node_modules',\n",
      "      '/mnt/node_modules',\n",
      "      '/node_modules'\n",
      "    ]\n",
      "  },\n",
      "  __dirname: '.',\n",
      "  require: [Function: require] {\n",
      "    resolve: [Function: resolve] { paths: [Function: paths] },\n",
      "    main: undefined,\n",
      "    extensions: [Object: null prototype] {\n",
      "      '.js': [Function],\n",
      "      '.json': [Function],\n",
      "      '.node': [Function],\n",
      "      '.mjs': [Function]\n",
      "    },\n",
      "    cache: [Object: null prototype] {}\n",
      "  },\n",
      "  '$$mimer$$': [Function: defaultMimer],\n",
      "  '$$done$$': [Function: bound bound done],\n",
      "  fn: [Function: fn],\n",
      "  fn1: undefined,\n",
      "  console: Console {\n",
      "    log: [Function: bound log],\n",
      "    warn: [Function: bound warn],\n",
      "    dir: [Function: bound dir],\n",
      "    time: [Function: bound time],\n",
      "    timeEnd: [Function: bound timeEnd],\n",
      "    timeLog: [Function: bound timeLog],\n",
      "    trace: [Function: bound trace],\n",
      "    assert: [Function: bound assert],\n",
      "    clear: [Function: bound clear],\n",
      "    count: [Function: bound count],\n",
      "    countReset: [Function: bound countReset],\n",
      "    group: [Function: bound group],\n",
      "    groupEnd: [Function: bound groupEnd],\n",
      "    table: [Function: bound table],\n",
      "    debug: [Function: bound log],\n",
      "    info: [Function: bound log],\n",
      "    dirxml: [Function: bound log],\n",
      "    error: [Function: bound warn],\n",
      "    groupCollapsed: [Function: bound group],\n",
      "    Console: [Function: Console]\n",
      "  },\n",
      "  '$$': [Object: null prototype] {\n",
      "    async: [Function: bound async],\n",
      "    done: [Function: bound done],\n",
      "    sendResult: [Function: bound ],\n",
      "    sendError: [Function: bound ],\n",
      "    mime: [Function: bound ],\n",
      "    text: [Function: bound ],\n",
      "    html: [Function: bound ],\n",
      "    svg: [Function: bound ],\n",
      "    png: [Function: bound ],\n",
      "    jpeg: [Function: bound ],\n",
      "    json: [Function: bound ],\n",
      "    input: [Function: bound input],\n",
      "    display: [Function: bound createDisplay]\n",
      "  },\n",
      "  fn2: [Function: fn2]\n",
      "}\n",
      "[Arguments] { '0': 'zhangsan' }\n"
     ]
    }
   ],
   "source": [
    "fn2('zhangsan')\n",
    "function fn2(name){\n",
    "    console.log(this);\n",
    "    console.log(arguments);\n",
    "}"
   ]
  },
  {
   "cell_type": "markdown",
   "metadata": {},
   "source": [
    "this作为对象属性执行；this就是对象"
   ]
  },
  {
   "cell_type": "code",
   "execution_count": 5,
   "metadata": {},
   "outputs": [
    {
     "name": "stdout",
     "output_type": "stream",
     "text": [
      "A\n"
     ]
    }
   ],
   "source": [
    "var a = {\n",
    "    name:'A',\n",
    "    fn: function (){\n",
    "        console.log(this.name); //此时this是无法确定的；\n",
    "    }\n",
    "}\n",
    "a.fn();//this === a， 是个对象"
   ]
  },
  {
   "cell_type": "code",
   "execution_count": 6,
   "metadata": {},
   "outputs": [
    {
     "name": "stdout",
     "output_type": "stream",
     "text": [
      "B\n"
     ]
    }
   ],
   "source": [
    "a.fn.call({name:'B'}) ; // this === {name:'B'}，重新绑定了"
   ]
  },
  {
   "cell_type": "markdown",
   "metadata": {},
   "source": [
    "作为普通函数执行"
   ]
  },
  {
   "cell_type": "code",
   "execution_count": 7,
   "metadata": {},
   "outputs": [
    {
     "name": "stdout",
     "output_type": "stream",
     "text": [
      "undefined\n"
     ]
    }
   ],
   "source": [
    "var fn1 = a.fn;\n",
    "fn1(); // this === window ,在nodejs下无定义； "
   ]
  },
  {
   "cell_type": "code",
   "execution_count": 11,
   "metadata": {},
   "outputs": [
    {
     "data": {
      "text/plain": [
       "[Function: fn3]"
      ]
     },
     "execution_count": 11,
     "metadata": {},
     "output_type": "execute_result"
    }
   ],
   "source": [
    "function fn3(){\n",
    "    console.log(this); //\n",
    "}\n",
    "fn3;"
   ]
  },
  {
   "cell_type": "markdown",
   "metadata": {},
   "source": [
    "#### this在构造函数中"
   ]
  },
  {
   "cell_type": "code",
   "execution_count": 7,
   "metadata": {},
   "outputs": [
    {
     "name": "stdout",
     "output_type": "stream",
     "text": [
      "Foo { name: 'zhangsan' }\n"
     ]
    }
   ],
   "source": [
    "function Foo(name){\n",
    "    //this = {}\n",
    "    this.name = name;\n",
    "    console.log(this)\n",
    "    //return this;\n",
    "}\n",
    "var f = new Foo('zhangsan');"
   ]
  },
  {
   "cell_type": "code",
   "execution_count": 9,
   "metadata": {},
   "outputs": [],
   "source": [
    "function fn(){\n",
    "    console.log(this)  // 无返回，window\n",
    "}"
   ]
  },
  {
   "cell_type": "markdown",
   "metadata": {},
   "source": [
    "call apply bind"
   ]
  },
  {
   "cell_type": "code",
   "execution_count": 12,
   "metadata": {},
   "outputs": [
    {
     "name": "stdout",
     "output_type": "stream",
     "text": [
      "zhangsan\n",
      "{ x: 100 }\n"
     ]
    }
   ],
   "source": [
    "function fn4(name, age){\n",
    "    console.log(name);\n",
    "    console.log(this);\n",
    "}\n",
    "//指定第一个参数为this,第二个参数为函数第一个参数；\n",
    "fn4.call({x:100},'zhangsan',20);"
   ]
  },
  {
   "cell_type": "code",
   "execution_count": 14,
   "metadata": {},
   "outputs": [
    {
     "name": "stdout",
     "output_type": "stream",
     "text": [
      "lisi\n",
      "{ y: 200 }\n"
     ]
    }
   ],
   "source": [
    "fn4.apply({y:200},['lisi',30]);//apply, 以数组的方式传递参数； "
   ]
  },
  {
   "cell_type": "markdown",
   "metadata": {},
   "source": [
    "bind 必须以函数表达式方式运行"
   ]
  },
  {
   "cell_type": "code",
   "execution_count": 15,
   "metadata": {},
   "outputs": [
    {
     "name": "stdout",
     "output_type": "stream",
     "text": [
      "wangwu\n",
      "{ z: 300 }\n"
     ]
    }
   ],
   "source": [
    "var fn5 = function (name,age){ //需要用var,只能用函数表达式来bind\n",
    "    console.log(name);\n",
    "    console.log(this);\n",
    "}.bind({z:300});\n",
    "fn5('wangwu',40);"
   ]
  },
  {
   "cell_type": "markdown",
   "metadata": {},
   "source": [
    "call最常用"
   ]
  },
  {
   "cell_type": "markdown",
   "metadata": {},
   "source": [
    "### 作用域  \n",
    "JS 没有块级作用域    \n",
    "只有函数和全局作用域\n"
   ]
  },
  {
   "cell_type": "code",
   "execution_count": 10,
   "metadata": {},
   "outputs": [
    {
     "name": "stdout",
     "output_type": "stream",
     "text": [
      "zhangsan\n"
     ]
    }
   ],
   "source": [
    "if (true){\n",
    "    var name = 'zhangsan'; //作用域与写在外面是一样的。推荐变量声明在外面；\n",
    "}\n",
    "console.log(name); // java, c++中会报错"
   ]
  },
  {
   "cell_type": "code",
   "execution_count": 17,
   "metadata": {},
   "outputs": [
    {
     "name": "stdout",
     "output_type": "stream",
     "text": [
      "global 100\n",
      "fn 200\n"
     ]
    }
   ],
   "source": [
    "var a = 100; //全局作用域，可能被覆盖。\n",
    "function fn(){\n",
    "    var a = 200; //函数作用域；\n",
    "    console.log('fn',a);\n",
    "}\n",
    "console.log('global',a);\n",
    "fn();"
   ]
  },
  {
   "cell_type": "markdown",
   "metadata": {},
   "source": [
    "作用域链   \n",
    "当前作用域没有定义的变量，自由变量   \n",
    "自由变量找定义的过程， 作用域链  "
   ]
  },
  {
   "cell_type": "code",
   "execution_count": 18,
   "metadata": {},
   "outputs": [
    {
     "name": "stdout",
     "output_type": "stream",
     "text": [
      "100\n",
      "200\n"
     ]
    }
   ],
   "source": [
    "var a = 100;\n",
    "function fn(){\n",
    "    var b = 200;\n",
    "    console.log(a);//当前作用域没有定义的变量，自由变量\n",
    "    console.log(b);\n",
    "}\n",
    "fn();"
   ]
  },
  {
   "cell_type": "markdown",
   "metadata": {},
   "source": [
    "函数的父级作用域，在函数定义时确定的  \n",
    "与执行的地方无关；"
   ]
  },
  {
   "cell_type": "code",
   "execution_count": 11,
   "metadata": {},
   "outputs": [
    {
     "name": "stdout",
     "output_type": "stream",
     "text": [
      "100\n",
      "200\n",
      "300\n"
     ]
    }
   ],
   "source": [
    "var a = 100 \n",
    "function F1(){\n",
    "    var b = 200 \n",
    "    function F2() {\n",
    "        var c = 300 \n",
    "        console.log(a) //与定义有关，写执行无关\n",
    "        console.log(b)\n",
    "        console.log(c)\n",
    "    }\n",
    "    F2()\n",
    "}\n",
    "F1()"
   ]
  },
  {
   "cell_type": "markdown",
   "metadata": {},
   "source": [
    "作用域链：自由变量不断在父级作用域中查找变量声明；"
   ]
  },
  {
   "cell_type": "markdown",
   "metadata": {},
   "source": [
    "### 闭包\n"
   ]
  },
  {
   "cell_type": "code",
   "execution_count": 19,
   "metadata": {},
   "outputs": [
    {
     "name": "stdout",
     "output_type": "stream",
     "text": [
      "100\n"
     ]
    }
   ],
   "source": [
    "function F1(){\n",
    "    var a = 100;\n",
    "    //函数的父级作用域是定义时的作用域，与执行时无关； \n",
    "    return function(){\n",
    "        console.log(a); //a的父级作用域是F1();\n",
    "    }\n",
    "}\n",
    "var f1 = F1(); //返回一个函数，f1就是函数了。\n",
    "var a = 200; //全局作用域；\n",
    "f1(); // 结果 中 a 只与定义的父级作用域有关"
   ]
  },
  {
   "cell_type": "markdown",
   "metadata": {},
   "source": [
    "闭包的使用场景：  \n",
    "* 函数作为返回值；函数中的自由变量只与定义时的作用域有关\n",
    "* 函数作用参数传递；"
   ]
  },
  {
   "cell_type": "code",
   "execution_count": 21,
   "metadata": {},
   "outputs": [
    {
     "name": "stdout",
     "output_type": "stream",
     "text": [
      "100\n"
     ]
    }
   ],
   "source": [
    "function F2(fn){\n",
    "    var a = 300;\n",
    "    fn();\n",
    "}\n",
    "F2(f1); //a的父级作用域还是F1();与执行时无关；"
   ]
  },
  {
   "cell_type": "code",
   "execution_count": null,
   "metadata": {},
   "outputs": [],
   "source": [
    "var i, a\n",
    "for(i =0 ;i<10;i++){\n",
    "    a = document.createElement('a');\n",
    "    a.innerHTML = i + '<br>';\n",
    "    a.addEventListener('click',function(e){\n",
    "        var k = i; //无块级作用域，也无法正常工作\n",
    "        e.preventDefault();\n",
    "        alert(k);\n",
    "    })\n",
    "    document.body.appendChild(a);\n",
    "}"
   ]
  },
  {
   "cell_type": "code",
   "execution_count": null,
   "metadata": {},
   "outputs": [],
   "source": [
    "var i\n",
    "for(i =0 ;i<10;i++){\n",
    "    (function(i){ //自执行函数 \n",
    "        var a = document.createElement('a');\n",
    "        a.innerHTML = i + '<br>';\n",
    "        a.addEventListener('click',function(e){ //e 是传入的event \n",
    "            e.preventDefault();\n",
    "            alert(i);\n",
    "        })\n",
    "        document.body.appendChild(a);\n",
    "    })(i) //传入函数作用域变量 i \n",
    "}"
   ]
  },
  {
   "cell_type": "code",
   "execution_count": 12,
   "metadata": {},
   "outputs": [
    {
     "data": {
      "text/plain": [
       "true"
      ]
     },
     "execution_count": 12,
     "metadata": {},
     "output_type": "execute_result"
    }
   ],
   "source": [
    "// 闭包的例子，共用函数内部变量。\n",
    "// 主要用于封装变量，收敛权限。\n",
    "function isFirstLoad(){\n",
    "    var _list = [];\n",
    "    return function(id){\n",
    "        if(_list.indexOf(id)>=0){\n",
    "            return false;\n",
    "        } else {\n",
    "            _list.push(id);\n",
    "            return true;\n",
    "        }\n",
    "    }\n",
    "}\n",
    "var firstLoad = isFirstLoad();\n",
    "firstLoad(10);"
   ]
  },
  {
   "cell_type": "code",
   "execution_count": 13,
   "metadata": {},
   "outputs": [
    {
     "data": {
      "text/plain": [
       "false"
      ]
     },
     "execution_count": 13,
     "metadata": {},
     "output_type": "execute_result"
    }
   ],
   "source": [
    "firstLoad(10);"
   ]
  },
  {
   "cell_type": "code",
   "execution_count": 14,
   "metadata": {},
   "outputs": [
    {
     "data": {
      "text/plain": [
       "true"
      ]
     },
     "execution_count": 14,
     "metadata": {},
     "output_type": "execute_result"
    }
   ],
   "source": [
    "var secondload = isFirstLoad(); // 新的返回函数，使用了新的内存空间。 \n",
    "secondload(10);"
   ]
  },
  {
   "cell_type": "code",
   "execution_count": 15,
   "metadata": {},
   "outputs": [
    {
     "data": {
      "text/plain": [
       "false"
      ]
     },
     "execution_count": 15,
     "metadata": {},
     "output_type": "execute_result"
    }
   ],
   "source": [
    "secondload(10)"
   ]
  },
  {
   "cell_type": "markdown",
   "metadata": {},
   "source": [
    " 你在isFirstLoad的函数外面，根本不可能修改_list 的值  \n",
    " 函数的每次调用，共享一部分数据；"
   ]
  },
  {
   "cell_type": "code",
   "execution_count": null,
   "metadata": {},
   "outputs": [],
   "source": []
  }
 ],
 "metadata": {
  "kernelspec": {
   "display_name": "Javascript (Node.js)",
   "language": "javascript",
   "name": "javascript"
  },
  "language_info": {
   "file_extension": ".js",
   "mimetype": "application/javascript",
   "name": "javascript",
   "version": "12.2.0"
  },
  "toc": {
   "base_numbering": 1,
   "nav_menu": {},
   "number_sections": true,
   "sideBar": true,
   "skip_h1_title": false,
   "title_cell": "Table of Contents",
   "title_sidebar": "Contents",
   "toc_cell": false,
   "toc_position": {},
   "toc_section_display": true,
   "toc_window_display": false
  },
  "varInspector": {
   "cols": {
    "lenName": 16,
    "lenType": 16,
    "lenVar": 40
   },
   "kernels_config": {
    "python": {
     "delete_cmd_postfix": "",
     "delete_cmd_prefix": "del ",
     "library": "var_list.py",
     "varRefreshCmd": "print(var_dic_list())"
    },
    "r": {
     "delete_cmd_postfix": ") ",
     "delete_cmd_prefix": "rm(",
     "library": "var_list.r",
     "varRefreshCmd": "cat(var_dic_list()) "
    }
   },
   "types_to_exclude": [
    "module",
    "function",
    "builtin_function_or_method",
    "instance",
    "_Feature"
   ],
   "window_display": false
  }
 },
 "nbformat": 4,
 "nbformat_minor": 2
}
