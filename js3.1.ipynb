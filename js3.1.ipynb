{
 "cells": [
  {
   "cell_type": "markdown",
   "metadata": {},
   "source": []
  },
  {
   "cell_type": "markdown",
   "metadata": {},
   "source": [
    "### 执行上下文\n",
    "\n",
    "### 声明与表达式\n",
    "\n",
    "执行第一行之前：  \n",
    "变量会提前  \n",
    "函数声明为提前  "
   ]
  },
  {
   "cell_type": "code",
   "execution_count": 1,
   "metadata": {},
   "outputs": [
    {
     "name": "stdout",
     "output_type": "stream",
     "text": [
      "声明\n"
     ]
    }
   ],
   "source": [
    "fn();\n",
    "//这是全局函数，提到了最前\n",
    "function fn(){ //函数声明会被提前\n",
    "    console.log('声明');\n",
    "}"
   ]
  },
  {
   "cell_type": "code",
   "execution_count": 2,
   "metadata": {},
   "outputs": [
    {
     "ename": "TypeError",
     "evalue": "fn1 is not a function",
     "output_type": "error",
     "traceback": [
      "evalmachine.<anonymous>:1",
      "fn1();",
      "^",
      "",
      "TypeError: fn1 is not a function",
      "    at evalmachine.<anonymous>:1:1",
      "    at Script.runInThisContext (vm.js:123:20)",
      "    at Object.runInThisContext (vm.js:313:38)",
      "    at run ([eval]:1002:15)",
      "    at onRunRequest ([eval]:829:18)",
      "    at onMessage ([eval]:789:13)",
      "    at process.emit (events.js:196:13)",
      "    at emit (internal/child_process.js:860:12)",
      "    at processTicksAndRejections (internal/process/task_queues.js:84:9)"
     ]
    }
   ],
   "source": [
    "fn1(); //fn1此时为undefined; \n",
    "var fn1 = function(){ //这是函数表达式\n",
    "    console.log('表达式');\n",
    "}"
   ]
  },
  {
   "cell_type": "code",
   "execution_count": 3,
   "metadata": {},
   "outputs": [
    {
     "name": "stdout",
     "output_type": "stream",
     "text": [
      "undefined\n"
     ]
    }
   ],
   "source": [
    "console.log(a); //此前有一步 var a = undefined; \n",
    "var a = 100;"
   ]
  },
  {
   "cell_type": "code",
   "execution_count": 4,
   "metadata": {},
   "outputs": [
    {
     "name": "stdout",
     "output_type": "stream",
     "text": [
      "Object [global] {\n",
      "  global: [Circular],\n",
      "  clearInterval: [Function: clearInterval],\n",
      "  clearTimeout: [Function: clearTimeout],\n",
      "  setInterval: [Function: setInterval],\n",
      "  setTimeout: [Function: setTimeout] { [Symbol(util.promisify.custom)]: [Function] },\n",
      "  queueMicrotask: [Function: queueMicrotask],\n",
      "  clearImmediate: [Function: clearImmediate],\n",
      "  setImmediate: [Function: setImmediate] {\n",
      "    [Symbol(util.promisify.custom)]: [Function]\n",
      "  },\n",
      "  __filename: '[eval]',\n",
      "  exports: {},\n",
      "  module: Module {\n",
      "    id: '[eval]',\n",
      "    path: '.',\n",
      "    exports: {},\n",
      "    parent: undefined,\n",
      "    filename: '/mnt/e/codes/Test/jsDemo/[eval]',\n",
      "    loaded: false,\n",
      "    children: [],\n",
      "    paths: [\n",
      "      '/mnt/e/codes/Test/jsDemo/node_modules',\n",
      "      '/mnt/e/codes/Test/node_modules',\n",
      "      '/mnt/e/codes/node_modules',\n",
      "      '/mnt/e/node_modules',\n",
      "      '/mnt/node_modules',\n",
      "      '/node_modules'\n",
      "    ]\n",
      "  },\n",
      "  __dirname: '.',\n",
      "  require: [Function: require] {\n",
      "    resolve: [Function: resolve] { paths: [Function: paths] },\n",
      "    main: undefined,\n",
      "    extensions: [Object: null prototype] {\n",
      "      '.js': [Function],\n",
      "      '.json': [Function],\n",
      "      '.node': [Function],\n",
      "      '.mjs': [Function]\n",
      "    },\n",
      "    cache: [Object: null prototype] {}\n",
      "  },\n",
      "  '$$mimer$$': [Function: defaultMimer],\n",
      "  '$$done$$': [Function: bound bound done],\n",
      "  fn: [Function: fn],\n",
      "  fn1: undefined,\n",
      "  a: 100,\n",
      "  console: Console {\n",
      "    log: [Function: bound log],\n",
      "    warn: [Function: bound warn],\n",
      "    dir: [Function: bound dir],\n",
      "    time: [Function: bound time],\n",
      "    timeEnd: [Function: bound timeEnd],\n",
      "    timeLog: [Function: bound timeLog],\n",
      "    trace: [Function: bound trace],\n",
      "    assert: [Function: bound assert],\n",
      "    clear: [Function: bound clear],\n",
      "    count: [Function: bound count],\n",
      "    countReset: [Function: bound countReset],\n",
      "    group: [Function: bound group],\n",
      "    groupEnd: [Function: bound groupEnd],\n",
      "    table: [Function: bound table],\n",
      "    debug: [Function: bound log],\n",
      "    info: [Function: bound log],\n",
      "    dirxml: [Function: bound log],\n",
      "    error: [Function: bound warn],\n",
      "    groupCollapsed: [Function: bound group],\n",
      "    Console: [Function: Console]\n",
      "  },\n",
      "  '$$': [Object: null prototype] {\n",
      "    async: [Function: bound async],\n",
      "    done: [Function: bound done],\n",
      "    sendResult: [Function: bound ],\n",
      "    sendError: [Function: bound ],\n",
      "    mime: [Function: bound ],\n",
      "    text: [Function: bound ],\n",
      "    html: [Function: bound ],\n",
      "    svg: [Function: bound ],\n",
      "    png: [Function: bound ],\n",
      "    jpeg: [Function: bound ],\n",
      "    json: [Function: bound ],\n",
      "    input: [Function: bound input],\n",
      "    display: [Function: bound createDisplay]\n",
      "  },\n",
      "  fn2: [Function: fn2]\n",
      "}\n",
      "[Arguments] { '0': 'zhangsan' }\n"
     ]
    }
   ],
   "source": [
    "fn2('zhangsan')\n",
    "function fn2(name){\n",
    "    console.log(this);\n",
    "    console.log(arguments);\n",
    "}"
   ]
  },
  {
   "cell_type": "markdown",
   "metadata": {},
   "source": [
    "### this  \n",
    "this 要在执行时才能确认值，定义时无法确认  \n"
   ]
  },
  {
   "cell_type": "markdown",
   "metadata": {},
   "source": [
    "this作为对象属性执行；this就是对象"
   ]
  },
  {
   "cell_type": "code",
   "execution_count": 5,
   "metadata": {},
   "outputs": [
    {
     "name": "stdout",
     "output_type": "stream",
     "text": [
      "A\n"
     ]
    }
   ],
   "source": [
    "var a = {\n",
    "    name:'A',\n",
    "    fn: function (){\n",
    "        console.log(this.name); //此时this是无法确定的；\n",
    "    }\n",
    "}\n",
    "a.fn();//this === a， 是个对象"
   ]
  },
  {
   "cell_type": "code",
   "execution_count": 6,
   "metadata": {},
   "outputs": [
    {
     "name": "stdout",
     "output_type": "stream",
     "text": [
      "B\n"
     ]
    }
   ],
   "source": [
    "a.fn.call({name:'B'}) ; // this === {name:'B'}"
   ]
  },
  {
   "cell_type": "markdown",
   "metadata": {},
   "source": [
    "作为普通函数执行"
   ]
  },
  {
   "cell_type": "code",
   "execution_count": 11,
   "metadata": {},
   "outputs": [
    {
     "data": {
      "text/plain": [
       "[Function: fn3]"
      ]
     },
     "execution_count": 11,
     "metadata": {},
     "output_type": "execute_result"
    }
   ],
   "source": [
    "function fn3(){\n",
    "    console.log(this); //\n",
    "}\n",
    "fn3;"
   ]
  },
  {
   "cell_type": "code",
   "execution_count": 7,
   "metadata": {},
   "outputs": [
    {
     "name": "stdout",
     "output_type": "stream",
     "text": [
      "undefined\n"
     ]
    }
   ],
   "source": [
    "var fn1 = a.fn;\n",
    "fn1(); // this === window ,在nodejs下无定义； "
   ]
  },
  {
   "cell_type": "markdown",
   "metadata": {},
   "source": [
    "#### this在构造函数中"
   ]
  },
  {
   "cell_type": "code",
   "execution_count": 10,
   "metadata": {},
   "outputs": [],
   "source": [
    "function Foo(name){\n",
    "    this.name = name;\n",
    "    return this;\n",
    "}\n",
    "var f = new Foo('zhangsan');"
   ]
  },
  {
   "cell_type": "markdown",
   "metadata": {},
   "source": [
    "call apply bind"
   ]
  },
  {
   "cell_type": "code",
   "execution_count": 12,
   "metadata": {},
   "outputs": [
    {
     "name": "stdout",
     "output_type": "stream",
     "text": [
      "zhangsan\n",
      "{ x: 100 }\n"
     ]
    }
   ],
   "source": [
    "function fn4(name, age){\n",
    "    console.log(name);\n",
    "    console.log(this);\n",
    "}\n",
    "fn4.call({x:100},'zhangsan',20);//指定第一个参数为this,第二个函数为函数第一个函数；"
   ]
  },
  {
   "cell_type": "code",
   "execution_count": 14,
   "metadata": {},
   "outputs": [
    {
     "name": "stdout",
     "output_type": "stream",
     "text": [
      "lisi\n",
      "{ y: 200 }\n"
     ]
    }
   ],
   "source": [
    "fn4.apply({y:200},['lisi',30]);//apply, 以数组的方式传递参数； "
   ]
  },
  {
   "cell_type": "markdown",
   "metadata": {},
   "source": [
    "bind 必须以函数表达式方式运行"
   ]
  },
  {
   "cell_type": "code",
   "execution_count": 15,
   "metadata": {},
   "outputs": [
    {
     "name": "stdout",
     "output_type": "stream",
     "text": [
      "wangwu\n",
      "{ z: 300 }\n"
     ]
    }
   ],
   "source": [
    "var fn5 = function (name,age){\n",
    "    console.log(name);\n",
    "    console.log(this);\n",
    "}.bind({z:300});\n",
    "fn5('wangwu',40);"
   ]
  },
  {
   "cell_type": "markdown",
   "metadata": {},
   "source": [
    "call最常用"
   ]
  },
  {
   "cell_type": "markdown",
   "metadata": {},
   "source": [
    "### 作用域  \n",
    "没有块级作用域"
   ]
  },
  {
   "cell_type": "code",
   "execution_count": 16,
   "metadata": {},
   "outputs": [
    {
     "name": "stdout",
     "output_type": "stream",
     "text": [
      "zhangsan\n"
     ]
    }
   ],
   "source": [
    "if (true){\n",
    "    var name = 'zhangsan'; //作用域与写在外面是一样的。推荐变量声明在外面；\n",
    "}\n",
    "console.log(name);"
   ]
  },
  {
   "cell_type": "code",
   "execution_count": 17,
   "metadata": {},
   "outputs": [
    {
     "name": "stdout",
     "output_type": "stream",
     "text": [
      "global 100\n",
      "fn 200\n"
     ]
    }
   ],
   "source": [
    "var a = 100; //全局作用域，可能被覆盖。\n",
    "function fn(){\n",
    "    var a = 200; //函数作用域；\n",
    "    console.log('fn',a);\n",
    "}\n",
    "console.log('global',a);\n",
    "fn();"
   ]
  },
  {
   "cell_type": "markdown",
   "metadata": {},
   "source": [
    "作用域链"
   ]
  },
  {
   "cell_type": "code",
   "execution_count": 18,
   "metadata": {},
   "outputs": [
    {
     "name": "stdout",
     "output_type": "stream",
     "text": [
      "100\n",
      "200\n"
     ]
    }
   ],
   "source": [
    "var a = 100;\n",
    "function fn(){\n",
    "    var b = 200;\n",
    "    console.log(a);//当前作用域没有定义的变量，自由变量\n",
    "    console.log(b);\n",
    "}\n",
    "fn();"
   ]
  },
  {
   "cell_type": "markdown",
   "metadata": {},
   "source": [
    "函数的父级作用域，在函数定义时确定的  \n",
    "与执行的地方无关；"
   ]
  },
  {
   "cell_type": "markdown",
   "metadata": {},
   "source": [
    "作用域链：不断在父级作用域中查找变量声明；"
   ]
  },
  {
   "cell_type": "markdown",
   "metadata": {},
   "source": [
    "### 闭包\n"
   ]
  },
  {
   "cell_type": "code",
   "execution_count": 19,
   "metadata": {},
   "outputs": [
    {
     "name": "stdout",
     "output_type": "stream",
     "text": [
      "100\n"
     ]
    }
   ],
   "source": [
    "function F1(){\n",
    "    var a = 100;\n",
    "    //函数的父级作用域是定义时的作用域，与执行时无关； \n",
    "    return function(){\n",
    "        console.log(a); //a的父级作用域是F1();\n",
    "    }\n",
    "}\n",
    "var f1 = F1();\n",
    "var a = 200; //全局作用域；\n",
    "f1();"
   ]
  },
  {
   "cell_type": "markdown",
   "metadata": {},
   "source": [
    "闭包的使用场景：  \n",
    "* 函数作为返回值；\n",
    "* 函数作用参数传递；"
   ]
  },
  {
   "cell_type": "code",
   "execution_count": 21,
   "metadata": {},
   "outputs": [
    {
     "name": "stdout",
     "output_type": "stream",
     "text": [
      "100\n"
     ]
    }
   ],
   "source": [
    "function F2(fn){\n",
    "    var a = 300;\n",
    "    fn();\n",
    "}\n",
    "F2(f1); //a的父级作用域还是F1();与执行时无关；"
   ]
  },
  {
   "cell_type": "code",
   "execution_count": null,
   "metadata": {},
   "outputs": [],
   "source": [
    "var i, a\n",
    "for(i =0 ;i<10;i++){\n",
    "    a = document.createElement('a');\n",
    "    a.innerHTML = i + '<br>';\n",
    "    a.addEventListener('click',function(e){\n",
    "        var k = i; //无块级作用域\n",
    "        e.preventDefault();\n",
    "        alert(k);\n",
    "    })\n",
    "    document.body.appendChild(a);\n",
    "}"
   ]
  },
  {
   "cell_type": "code",
   "execution_count": 23,
   "metadata": {},
   "outputs": [
    {
     "data": {
      "text/plain": [
       "true"
      ]
     },
     "execution_count": 23,
     "metadata": {},
     "output_type": "execute_result"
    }
   ],
   "source": [
    "function isFirstLoad(){\n",
    "    var _list = [];\n",
    "    return function(id){\n",
    "        if(_list.indexOf(id)>=0){\n",
    "            return false;\n",
    "        } else {\n",
    "            _list.push(id);\n",
    "            return true;\n",
    "        }\n",
    "    }\n",
    "}\n",
    "var firstLoad = isFirstLoad();\n",
    "firstLoad(10);"
   ]
  },
  {
   "cell_type": "code",
   "execution_count": 24,
   "metadata": {},
   "outputs": [
    {
     "data": {
      "text/plain": [
       "false"
      ]
     },
     "execution_count": 24,
     "metadata": {},
     "output_type": "execute_result"
    }
   ],
   "source": [
    "firstLoad(10);"
   ]
  },
  {
   "cell_type": "code",
   "execution_count": 25,
   "metadata": {},
   "outputs": [
    {
     "data": {
      "text/plain": [
       "true"
      ]
     },
     "execution_count": 25,
     "metadata": {},
     "output_type": "execute_result"
    }
   ],
   "source": [
    "var secondload = isFirstLoad();\n",
    "secondload(10);"
   ]
  },
  {
   "cell_type": "markdown",
   "metadata": {},
   "source": [
    " 你在isFirstLoad的函数外面，根本不可能修改_list 的值  \n",
    " 函数的每次调用，共享一部分数据；"
   ]
  },
  {
   "cell_type": "code",
   "execution_count": null,
   "metadata": {},
   "outputs": [],
   "source": []
  }
 ],
 "metadata": {
  "kernelspec": {
   "display_name": "Javascript (Node.js)",
   "language": "javascript",
   "name": "javascript"
  },
  "language_info": {
   "file_extension": ".js",
   "mimetype": "application/javascript",
   "name": "javascript",
   "version": "12.2.0"
  }
 },
 "nbformat": 4,
 "nbformat_minor": 2
}
